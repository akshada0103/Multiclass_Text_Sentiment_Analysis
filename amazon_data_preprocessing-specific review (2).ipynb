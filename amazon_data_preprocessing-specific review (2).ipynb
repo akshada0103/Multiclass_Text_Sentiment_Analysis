{
 "cells": [
  {
   "cell_type": "code",
   "execution_count": 1,
   "metadata": {},
   "outputs": [],
   "source": [
    "import pandas as pd\n",
    "import numpy as np"
   ]
  },
  {
   "cell_type": "markdown",
   "metadata": {},
   "source": [
    "# Dataset 1"
   ]
  },
  {
   "cell_type": "code",
   "execution_count": 2,
   "metadata": {},
   "outputs": [
    {
     "data": {
      "text/html": [
       "<div>\n",
       "<style scoped>\n",
       "    .dataframe tbody tr th:only-of-type {\n",
       "        vertical-align: middle;\n",
       "    }\n",
       "\n",
       "    .dataframe tbody tr th {\n",
       "        vertical-align: top;\n",
       "    }\n",
       "\n",
       "    .dataframe thead th {\n",
       "        text-align: right;\n",
       "    }\n",
       "</style>\n",
       "<table border=\"1\" class=\"dataframe\">\n",
       "  <thead>\n",
       "    <tr style=\"text-align: right;\">\n",
       "      <th></th>\n",
       "      <th>unique_id</th>\n",
       "      <th>asin</th>\n",
       "      <th>product_name</th>\n",
       "      <th>product_type</th>\n",
       "      <th>helpful</th>\n",
       "      <th>rating</th>\n",
       "      <th>title</th>\n",
       "      <th>date</th>\n",
       "      <th>reviewer</th>\n",
       "      <th>reviewer_location</th>\n",
       "      <th>review_text</th>\n",
       "    </tr>\n",
       "  </thead>\n",
       "  <tbody>\n",
       "    <tr>\n",
       "      <th>0</th>\n",
       "      <td>1884956068:a_mainstay_reference_for_spanish-sp...</td>\n",
       "      <td>1884956068</td>\n",
       "      <td>Manual pedi�trico para los due�os del nuevo be...</td>\n",
       "      <td>books</td>\n",
       "      <td>7 of 8</td>\n",
       "      <td>5.0</td>\n",
       "      <td>A mainstay reference for Spanish-speaking home...</td>\n",
       "      <td>April 6, 2000</td>\n",
       "      <td>Midwest Book Review</td>\n",
       "      <td>Oregon, WI USA</td>\n",
       "      <td>This all-Spanish handbook for parents with new...</td>\n",
       "    </tr>\n",
       "    <tr>\n",
       "      <th>1</th>\n",
       "      <td>0679728740:you_want_the_necrophiliac_to_escape...</td>\n",
       "      <td>0679728740</td>\n",
       "      <td>Child of God: Books: Cormac Mccarthy</td>\n",
       "      <td>books</td>\n",
       "      <td>0 of 1</td>\n",
       "      <td>5.0</td>\n",
       "      <td>You want the necrophiliac to escape?</td>\n",
       "      <td>October 20, 2006</td>\n",
       "      <td>Brian Asquith</td>\n",
       "      <td>NaN</td>\n",
       "      <td>McCarthy's writing and portrayal of Lester Bal...</td>\n",
       "    </tr>\n",
       "    <tr>\n",
       "      <th>2</th>\n",
       "      <td>0679728740:low_brow_and_juvenile:bruce_miller</td>\n",
       "      <td>0679728740</td>\n",
       "      <td>Child of God: Books: Cormac Mccarthy</td>\n",
       "      <td>books</td>\n",
       "      <td>2 of 5</td>\n",
       "      <td>2.0</td>\n",
       "      <td>Low brow and juvenile</td>\n",
       "      <td>September 26, 2006</td>\n",
       "      <td>Bruce Miller</td>\n",
       "      <td>Shippensburg, PA United States</td>\n",
       "      <td>Do you giggle uncontrollably when poking corps...</td>\n",
       "    </tr>\n",
       "    <tr>\n",
       "      <th>3</th>\n",
       "      <td>0679728740:mccarthy,_a_brave_writer_with_an_in...</td>\n",
       "      <td>0679728740</td>\n",
       "      <td>Child of God: Books: Cormac Mccarthy</td>\n",
       "      <td>books</td>\n",
       "      <td>4 of 5</td>\n",
       "      <td>5.0</td>\n",
       "      <td>McCarthy, a brave writer with an incredible co...</td>\n",
       "      <td>July 24, 2005</td>\n",
       "      <td>Christopher Davis \"Christopher E.D.\"</td>\n",
       "      <td>Cleveland, MS</td>\n",
       "      <td>I was initiated into the world of Cormac McCar...</td>\n",
       "    </tr>\n",
       "    <tr>\n",
       "      <th>4</th>\n",
       "      <td>0679728740:sevierville_in_child_of_god:alex_jo...</td>\n",
       "      <td>0679728740</td>\n",
       "      <td>Child of God: Books: Cormac Mccarthy</td>\n",
       "      <td>books</td>\n",
       "      <td>11 of 14</td>\n",
       "      <td>4.0</td>\n",
       "      <td>SEVIERVILLE in Child of God</td>\n",
       "      <td>November 20, 2002</td>\n",
       "      <td>Alex Johnson</td>\n",
       "      <td>Sevierville, Tennessee</td>\n",
       "      <td>I cannot speak to the literary points in the n...</td>\n",
       "    </tr>\n",
       "  </tbody>\n",
       "</table>\n",
       "</div>"
      ],
      "text/plain": [
       "                                           unique_id        asin  \\\n",
       "0  1884956068:a_mainstay_reference_for_spanish-sp...  1884956068   \n",
       "1  0679728740:you_want_the_necrophiliac_to_escape...  0679728740   \n",
       "2      0679728740:low_brow_and_juvenile:bruce_miller  0679728740   \n",
       "3  0679728740:mccarthy,_a_brave_writer_with_an_in...  0679728740   \n",
       "4  0679728740:sevierville_in_child_of_god:alex_jo...  0679728740   \n",
       "\n",
       "                                        product_name product_type   helpful  \\\n",
       "0  Manual pedi�trico para los due�os del nuevo be...        books    7 of 8   \n",
       "1               Child of God: Books: Cormac Mccarthy        books    0 of 1   \n",
       "2               Child of God: Books: Cormac Mccarthy        books    2 of 5   \n",
       "3               Child of God: Books: Cormac Mccarthy        books    4 of 5   \n",
       "4               Child of God: Books: Cormac Mccarthy        books  11 of 14   \n",
       "\n",
       "   rating                                              title  \\\n",
       "0     5.0  A mainstay reference for Spanish-speaking home...   \n",
       "1     5.0               You want the necrophiliac to escape?   \n",
       "2     2.0                              Low brow and juvenile   \n",
       "3     5.0  McCarthy, a brave writer with an incredible co...   \n",
       "4     4.0                        SEVIERVILLE in Child of God   \n",
       "\n",
       "                 date                              reviewer  \\\n",
       "0       April 6, 2000                   Midwest Book Review   \n",
       "1    October 20, 2006                         Brian Asquith   \n",
       "2  September 26, 2006                          Bruce Miller   \n",
       "3       July 24, 2005  Christopher Davis \"Christopher E.D.\"   \n",
       "4   November 20, 2002                          Alex Johnson   \n",
       "\n",
       "                reviewer_location  \\\n",
       "0                  Oregon, WI USA   \n",
       "1                             NaN   \n",
       "2  Shippensburg, PA United States   \n",
       "3                   Cleveland, MS   \n",
       "4          Sevierville, Tennessee   \n",
       "\n",
       "                                         review_text  \n",
       "0  This all-Spanish handbook for parents with new...  \n",
       "1  McCarthy's writing and portrayal of Lester Bal...  \n",
       "2  Do you giggle uncontrollably when poking corps...  \n",
       "3  I was initiated into the world of Cormac McCar...  \n",
       "4  I cannot speak to the literary points in the n...  "
      ]
     },
     "execution_count": 2,
     "metadata": {},
     "output_type": "execute_result"
    }
   ],
   "source": [
    "df1=pd.read_csv(\"book_review.csv\")\n",
    "df1.head()"
   ]
  },
  {
   "cell_type": "code",
   "execution_count": 3,
   "metadata": {},
   "outputs": [
    {
     "data": {
      "text/plain": [
       "(42000, 11)"
      ]
     },
     "execution_count": 3,
     "metadata": {},
     "output_type": "execute_result"
    }
   ],
   "source": [
    "df1.shape"
   ]
  },
  {
   "cell_type": "code",
   "execution_count": 4,
   "metadata": {},
   "outputs": [
    {
     "data": {
      "text/plain": [
       "['unique_id',\n",
       " 'asin',\n",
       " 'product_name',\n",
       " 'product_type',\n",
       " 'helpful',\n",
       " 'rating',\n",
       " 'title',\n",
       " 'date',\n",
       " 'reviewer',\n",
       " 'reviewer_location',\n",
       " 'review_text']"
      ]
     },
     "execution_count": 4,
     "metadata": {},
     "output_type": "execute_result"
    }
   ],
   "source": [
    "list(df1.columns)"
   ]
  },
  {
   "cell_type": "markdown",
   "metadata": {},
   "source": [
    "# Dataset 2"
   ]
  },
  {
   "cell_type": "code",
   "execution_count": 5,
   "metadata": {},
   "outputs": [
    {
     "data": {
      "text/html": [
       "<div>\n",
       "<style scoped>\n",
       "    .dataframe tbody tr th:only-of-type {\n",
       "        vertical-align: middle;\n",
       "    }\n",
       "\n",
       "    .dataframe tbody tr th {\n",
       "        vertical-align: top;\n",
       "    }\n",
       "\n",
       "    .dataframe thead th {\n",
       "        text-align: right;\n",
       "    }\n",
       "</style>\n",
       "<table border=\"1\" class=\"dataframe\">\n",
       "  <thead>\n",
       "    <tr style=\"text-align: right;\">\n",
       "      <th></th>\n",
       "      <th>unique_id</th>\n",
       "      <th>asin</th>\n",
       "      <th>product_name</th>\n",
       "      <th>product_type</th>\n",
       "      <th>helpful</th>\n",
       "      <th>rating</th>\n",
       "      <th>title</th>\n",
       "      <th>date</th>\n",
       "      <th>reviewer</th>\n",
       "      <th>reviewer_location</th>\n",
       "      <th>review_text</th>\n",
       "    </tr>\n",
       "  </thead>\n",
       "  <tbody>\n",
       "    <tr>\n",
       "      <th>0</th>\n",
       "      <td>0785758968:one_of_the_best_crichton_novels:jos...</td>\n",
       "      <td>0785758968</td>\n",
       "      <td>Sphere: Books: Michael Crichton</td>\n",
       "      <td>books</td>\n",
       "      <td>0 of 1</td>\n",
       "      <td>5.0</td>\n",
       "      <td>One of the best Crichton novels</td>\n",
       "      <td>July 1, 2006</td>\n",
       "      <td>Joseph M</td>\n",
       "      <td>Colorado, USA</td>\n",
       "      <td>Sphere by Michael Crichton is an excellant nov...</td>\n",
       "    </tr>\n",
       "    <tr>\n",
       "      <th>1</th>\n",
       "      <td>0452279550:the_medicine_of_the_future:wafa_rashed</td>\n",
       "      <td>0452279550</td>\n",
       "      <td>Healing from the Heart: A Leading Surgeon Comb...</td>\n",
       "      <td>books</td>\n",
       "      <td>34 of 41</td>\n",
       "      <td>4.0</td>\n",
       "      <td>The Medicine of the Future</td>\n",
       "      <td>November 6, 2002</td>\n",
       "      <td>Wafa Rashed</td>\n",
       "      <td>Jabriya, KUWAIT</td>\n",
       "      <td>Dr. Oz is an accomplished heart surgeon in the...</td>\n",
       "    </tr>\n",
       "    <tr>\n",
       "      <th>2</th>\n",
       "      <td>1599620065:beautiful!:sarah_silva_\"sar\"</td>\n",
       "      <td>1599620065</td>\n",
       "      <td>Mythology: DC Comics Art of Alex Ross 2007 Cal...</td>\n",
       "      <td>books</td>\n",
       "      <td>NaN</td>\n",
       "      <td>5.0</td>\n",
       "      <td>Beautiful!</td>\n",
       "      <td>June 13, 2006</td>\n",
       "      <td>Sarah Silva \"Sar\"</td>\n",
       "      <td>San Diego, CA USA</td>\n",
       "      <td>The most gorgeous artwork in comic books. Cont...</td>\n",
       "    </tr>\n",
       "    <tr>\n",
       "      <th>3</th>\n",
       "      <td>0743277724:for_lovers_of_robicheaux:g._rousseau</td>\n",
       "      <td>0743277724</td>\n",
       "      <td>Pegasus Descending: A Dave Robicheaux Novel (D...</td>\n",
       "      <td>books</td>\n",
       "      <td>1 of 1</td>\n",
       "      <td>4.0</td>\n",
       "      <td>For lovers of Robicheaux</td>\n",
       "      <td>November 2, 2006</td>\n",
       "      <td>G. Rousseau</td>\n",
       "      <td>Finistere, France</td>\n",
       "      <td>This book is for lovers of Robicheaux.  His de...</td>\n",
       "    </tr>\n",
       "    <tr>\n",
       "      <th>4</th>\n",
       "      <td>061318114X:excellent_and_broad_survey_of_the_d...</td>\n",
       "      <td>061318114X</td>\n",
       "      <td>Guns, Germs, and Steel: The Fates of Human Soc...</td>\n",
       "      <td>books</td>\n",
       "      <td>7 of 9</td>\n",
       "      <td>5.0</td>\n",
       "      <td>Excellent and broad survey of the development ...</td>\n",
       "      <td>October 6, 2006</td>\n",
       "      <td>Patrick D. Goonan \"www.meaningful-life.us\"</td>\n",
       "      <td>Pleasanton, CA</td>\n",
       "      <td>This is going to be a short and sweet review b...</td>\n",
       "    </tr>\n",
       "  </tbody>\n",
       "</table>\n",
       "</div>"
      ],
      "text/plain": [
       "                                           unique_id        asin  \\\n",
       "0  0785758968:one_of_the_best_crichton_novels:jos...  0785758968   \n",
       "1  0452279550:the_medicine_of_the_future:wafa_rashed  0452279550   \n",
       "2            1599620065:beautiful!:sarah_silva_\"sar\"  1599620065   \n",
       "3    0743277724:for_lovers_of_robicheaux:g._rousseau  0743277724   \n",
       "4  061318114X:excellent_and_broad_survey_of_the_d...  061318114X   \n",
       "\n",
       "                                        product_name product_type   helpful  \\\n",
       "0                    Sphere: Books: Michael Crichton        books    0 of 1   \n",
       "1  Healing from the Heart: A Leading Surgeon Comb...        books  34 of 41   \n",
       "2  Mythology: DC Comics Art of Alex Ross 2007 Cal...        books       NaN   \n",
       "3  Pegasus Descending: A Dave Robicheaux Novel (D...        books    1 of 1   \n",
       "4  Guns, Germs, and Steel: The Fates of Human Soc...        books    7 of 9   \n",
       "\n",
       "   rating                                              title  \\\n",
       "0     5.0                    One of the best Crichton novels   \n",
       "1     4.0                         The Medicine of the Future   \n",
       "2     5.0                                         Beautiful!   \n",
       "3     4.0                           For lovers of Robicheaux   \n",
       "4     5.0  Excellent and broad survey of the development ...   \n",
       "\n",
       "               date                                    reviewer  \\\n",
       "0      July 1, 2006                                    Joseph M   \n",
       "1  November 6, 2002                                 Wafa Rashed   \n",
       "2     June 13, 2006                           Sarah Silva \"Sar\"   \n",
       "3  November 2, 2006                                 G. Rousseau   \n",
       "4   October 6, 2006  Patrick D. Goonan \"www.meaningful-life.us\"   \n",
       "\n",
       "   reviewer_location                                        review_text  \n",
       "0      Colorado, USA  Sphere by Michael Crichton is an excellant nov...  \n",
       "1    Jabriya, KUWAIT  Dr. Oz is an accomplished heart surgeon in the...  \n",
       "2  San Diego, CA USA  The most gorgeous artwork in comic books. Cont...  \n",
       "3  Finistere, France  This book is for lovers of Robicheaux.  His de...  \n",
       "4     Pleasanton, CA  This is going to be a short and sweet review b...  "
      ]
     },
     "execution_count": 5,
     "metadata": {},
     "output_type": "execute_result"
    }
   ],
   "source": [
    "df2=pd.read_csv('positive_review.csv')\n",
    "df2.head()"
   ]
  },
  {
   "cell_type": "code",
   "execution_count": 6,
   "metadata": {},
   "outputs": [
    {
     "data": {
      "text/plain": [
       "(1000, 11)"
      ]
     },
     "execution_count": 6,
     "metadata": {},
     "output_type": "execute_result"
    }
   ],
   "source": [
    "df2.shape"
   ]
  },
  {
   "cell_type": "code",
   "execution_count": 7,
   "metadata": {},
   "outputs": [
    {
     "data": {
      "text/plain": [
       "['unique_id',\n",
       " 'asin',\n",
       " 'product_name',\n",
       " 'product_type',\n",
       " 'helpful',\n",
       " 'rating',\n",
       " 'title',\n",
       " 'date',\n",
       " 'reviewer',\n",
       " 'reviewer_location',\n",
       " 'review_text']"
      ]
     },
     "execution_count": 7,
     "metadata": {},
     "output_type": "execute_result"
    }
   ],
   "source": [
    "list(df2.columns)"
   ]
  },
  {
   "cell_type": "markdown",
   "metadata": {},
   "source": [
    "# Dataset 3"
   ]
  },
  {
   "cell_type": "code",
   "execution_count": 8,
   "metadata": {},
   "outputs": [
    {
     "data": {
      "text/html": [
       "<div>\n",
       "<style scoped>\n",
       "    .dataframe tbody tr th:only-of-type {\n",
       "        vertical-align: middle;\n",
       "    }\n",
       "\n",
       "    .dataframe tbody tr th {\n",
       "        vertical-align: top;\n",
       "    }\n",
       "\n",
       "    .dataframe thead th {\n",
       "        text-align: right;\n",
       "    }\n",
       "</style>\n",
       "<table border=\"1\" class=\"dataframe\">\n",
       "  <thead>\n",
       "    <tr style=\"text-align: right;\">\n",
       "      <th></th>\n",
       "      <th>unique_id</th>\n",
       "      <th>asin</th>\n",
       "      <th>product_name</th>\n",
       "      <th>product_type</th>\n",
       "      <th>helpful</th>\n",
       "      <th>rating</th>\n",
       "      <th>title</th>\n",
       "      <th>date</th>\n",
       "      <th>reviewer</th>\n",
       "      <th>reviewer_location</th>\n",
       "      <th>review_text</th>\n",
       "    </tr>\n",
       "  </thead>\n",
       "  <tbody>\n",
       "    <tr>\n",
       "      <th>0</th>\n",
       "      <td>0312355645:horrible_book,_horrible.:mark_gospri</td>\n",
       "      <td>0312355645</td>\n",
       "      <td>Running with Scissors: A Memoir: Books: August...</td>\n",
       "      <td>books</td>\n",
       "      <td>4 of 9</td>\n",
       "      <td>1.0</td>\n",
       "      <td>Horrible book, horrible.</td>\n",
       "      <td>November 14, 2006</td>\n",
       "      <td>Mark Gospri</td>\n",
       "      <td>NaN</td>\n",
       "      <td>THis book was horrible.  If it was possible to...</td>\n",
       "    </tr>\n",
       "    <tr>\n",
       "      <th>1</th>\n",
       "      <td>1559278676:shallow_self-indulgence:joseph_s._p...</td>\n",
       "      <td>1559278676</td>\n",
       "      <td>Running with Scissors: A Memoir: Books: August...</td>\n",
       "      <td>books</td>\n",
       "      <td>1 of 6</td>\n",
       "      <td>1.0</td>\n",
       "      <td>shallow self-indulgence</td>\n",
       "      <td>November 15, 2006</td>\n",
       "      <td>Joseph S. Perrott \"avid reader\"</td>\n",
       "      <td>philadelphia, pa. United States</td>\n",
       "      <td>I like to use the Amazon reviews when purchasi...</td>\n",
       "    </tr>\n",
       "    <tr>\n",
       "      <th>2</th>\n",
       "      <td>1559278676:horrible_book,_horrible.:mark_gospri</td>\n",
       "      <td>1559278676</td>\n",
       "      <td>Running with Scissors: A Memoir: Books: August...</td>\n",
       "      <td>books</td>\n",
       "      <td>4 of 9</td>\n",
       "      <td>1.0</td>\n",
       "      <td>Horrible book, horrible.</td>\n",
       "      <td>November 14, 2006</td>\n",
       "      <td>Mark Gospri</td>\n",
       "      <td>NaN</td>\n",
       "      <td>THis book was horrible.  If it was possible to...</td>\n",
       "    </tr>\n",
       "    <tr>\n",
       "      <th>3</th>\n",
       "      <td>0425193373:disappointment:reader_\"reader\"</td>\n",
       "      <td>0425193373</td>\n",
       "      <td>Fierce Conversations: Achieving Sucess at Work...</td>\n",
       "      <td>books</td>\n",
       "      <td>10 of 13</td>\n",
       "      <td>1.0</td>\n",
       "      <td>Disappointment</td>\n",
       "      <td>March 13, 2006</td>\n",
       "      <td>Reader \"Reader\"</td>\n",
       "      <td>NaN</td>\n",
       "      <td>I'm not sure who's writing these reviews, but ...</td>\n",
       "    </tr>\n",
       "    <tr>\n",
       "      <th>4</th>\n",
       "      <td>0142004030:a_disappointing_mess:a._ross</td>\n",
       "      <td>0142004030</td>\n",
       "      <td>Lost in a Good Book (Thursday Next Novels): Bo...</td>\n",
       "      <td>books</td>\n",
       "      <td>6 of 7</td>\n",
       "      <td>2.0</td>\n",
       "      <td>A Disappointing Mess</td>\n",
       "      <td>May 17, 2006</td>\n",
       "      <td>A. Ross</td>\n",
       "      <td>Washington, DC</td>\n",
       "      <td>I picked up the first book in this series (The...</td>\n",
       "    </tr>\n",
       "  </tbody>\n",
       "</table>\n",
       "</div>"
      ],
      "text/plain": [
       "                                           unique_id        asin  \\\n",
       "0    0312355645:horrible_book,_horrible.:mark_gospri  0312355645   \n",
       "1  1559278676:shallow_self-indulgence:joseph_s._p...  1559278676   \n",
       "2    1559278676:horrible_book,_horrible.:mark_gospri  1559278676   \n",
       "3          0425193373:disappointment:reader_\"reader\"  0425193373   \n",
       "4            0142004030:a_disappointing_mess:a._ross  0142004030   \n",
       "\n",
       "                                        product_name product_type   helpful  \\\n",
       "0  Running with Scissors: A Memoir: Books: August...        books    4 of 9   \n",
       "1  Running with Scissors: A Memoir: Books: August...        books    1 of 6   \n",
       "2  Running with Scissors: A Memoir: Books: August...        books    4 of 9   \n",
       "3  Fierce Conversations: Achieving Sucess at Work...        books  10 of 13   \n",
       "4  Lost in a Good Book (Thursday Next Novels): Bo...        books    6 of 7   \n",
       "\n",
       "   rating                     title               date  \\\n",
       "0     1.0  Horrible book, horrible.  November 14, 2006   \n",
       "1     1.0   shallow self-indulgence  November 15, 2006   \n",
       "2     1.0  Horrible book, horrible.  November 14, 2006   \n",
       "3     1.0            Disappointment     March 13, 2006   \n",
       "4     2.0      A Disappointing Mess       May 17, 2006   \n",
       "\n",
       "                          reviewer                reviewer_location  \\\n",
       "0                      Mark Gospri                              NaN   \n",
       "1  Joseph S. Perrott \"avid reader\"  philadelphia, pa. United States   \n",
       "2                      Mark Gospri                              NaN   \n",
       "3                  Reader \"Reader\"                              NaN   \n",
       "4                          A. Ross                   Washington, DC   \n",
       "\n",
       "                                         review_text  \n",
       "0  THis book was horrible.  If it was possible to...  \n",
       "1  I like to use the Amazon reviews when purchasi...  \n",
       "2  THis book was horrible.  If it was possible to...  \n",
       "3  I'm not sure who's writing these reviews, but ...  \n",
       "4  I picked up the first book in this series (The...  "
      ]
     },
     "execution_count": 8,
     "metadata": {},
     "output_type": "execute_result"
    }
   ],
   "source": [
    "df3=pd.read_csv('negative_review.csv')\n",
    "df3.head()"
   ]
  },
  {
   "cell_type": "code",
   "execution_count": 9,
   "metadata": {},
   "outputs": [
    {
     "data": {
      "text/plain": [
       "(1000, 11)"
      ]
     },
     "execution_count": 9,
     "metadata": {},
     "output_type": "execute_result"
    }
   ],
   "source": [
    "df3.shape"
   ]
  },
  {
   "cell_type": "code",
   "execution_count": 10,
   "metadata": {},
   "outputs": [],
   "source": [
    "data=pd.concat([df1,df2]).drop_duplicates().reset_index(drop=True)"
   ]
  },
  {
   "cell_type": "code",
   "execution_count": 11,
   "metadata": {},
   "outputs": [
    {
     "data": {
      "text/plain": [
       "(7000, 11)"
      ]
     },
     "execution_count": 11,
     "metadata": {},
     "output_type": "execute_result"
    }
   ],
   "source": [
    "data.shape"
   ]
  },
  {
   "cell_type": "markdown",
   "metadata": {},
   "source": [
    "# Clubbing all three datasets together"
   ]
  },
  {
   "cell_type": "code",
   "execution_count": 12,
   "metadata": {},
   "outputs": [
    {
     "name": "stdout",
     "output_type": "stream",
     "text": [
      "                                              unique_id        asin  \\\n",
      "0     1884956068:a_mainstay_reference_for_spanish-sp...  1884956068   \n",
      "1     0679728740:you_want_the_necrophiliac_to_escape...  0679728740   \n",
      "2         0679728740:low_brow_and_juvenile:bruce_miller  0679728740   \n",
      "3     0679728740:mccarthy,_a_brave_writer_with_an_in...  0679728740   \n",
      "4     0679728740:sevierville_in_child_of_god:alex_jo...  0679728740   \n",
      "...                                                 ...         ...   \n",
      "7995  0385514573:a_nice_place_to_visit....:nina_shis...  0385514573   \n",
      "7996                      0385514573:boring:o._gonzalez  0385514573   \n",
      "7997          097160200X:lacking:m._roman_\"matt1234567\"  097160200X   \n",
      "7998  1564147363:okay_for_ideas:stacy_e._burrell_\"st...  1564147363   \n",
      "7999    0312273193:it's_just_\"reefer_madness\"_:r._johns  0312273193   \n",
      "\n",
      "                                           product_name product_type  \\\n",
      "0     Manual pedi�trico para los due�os del nuevo be...        books   \n",
      "1                  Child of God: Books: Cormac Mccarthy        books   \n",
      "2                  Child of God: Books: Cormac Mccarthy        books   \n",
      "3                  Child of God: Books: Cormac Mccarthy        books   \n",
      "4                  Child of God: Books: Cormac Mccarthy        books   \n",
      "...                                                 ...          ...   \n",
      "7995  Deadly Slipper: A Novel of Death in the Dordog...        books   \n",
      "7996  Deadly Slipper: A Novel of Death in the Dordog...        books   \n",
      "7997  Sitting Pretty: Looking and Feeling Better Wit...        books   \n",
      "7998  The 100 Best Businesses to Start When You Don'...        books   \n",
      "7999  The Hunting of the President: The Ten-Year Cam...        books   \n",
      "\n",
      "       helpful  rating                                              title  \\\n",
      "0       7 of 8     5.0  A mainstay reference for Spanish-speaking home...   \n",
      "1       0 of 1     5.0               You want the necrophiliac to escape?   \n",
      "2       2 of 5     2.0                              Low brow and juvenile   \n",
      "3       4 of 5     5.0  McCarthy, a brave writer with an incredible co...   \n",
      "4     11 of 14     4.0                        SEVIERVILLE in Child of God   \n",
      "...        ...     ...                                                ...   \n",
      "7995   5 of 10     2.0                          a nice place to visit....   \n",
      "7996    2 of 3     1.0                                             boring   \n",
      "7997    7 of 7     1.0                                            Lacking   \n",
      "7998  22 of 22     2.0                                     Okay for ideas   \n",
      "7999   8 of 62     1.0                        It's just \"Reefer Madness\"    \n",
      "\n",
      "                    date                                           reviewer  \\\n",
      "0          April 6, 2000                                Midwest Book Review   \n",
      "1       October 20, 2006                                      Brian Asquith   \n",
      "2     September 26, 2006                                       Bruce Miller   \n",
      "3          July 24, 2005               Christopher Davis \"Christopher E.D.\"   \n",
      "4      November 20, 2002                                       Alex Johnson   \n",
      "...                  ...                                                ...   \n",
      "7995   February 25, 2006                        Nina Shishkoff \"mycologist\"   \n",
      "7996       July 30, 2005                                        O. Gonzalez   \n",
      "7997         May 3, 2005                             M. Roman \"matt1234567\"   \n",
      "7998      March 23, 2005  Stacy E. Burrell \"Stacy's Blog (See stacyburre...   \n",
      "7999     August 13, 2004                                           R. Johns   \n",
      "\n",
      "                   reviewer_location  \\\n",
      "0                     Oregon, WI USA   \n",
      "1                                NaN   \n",
      "2     Shippensburg, PA United States   \n",
      "3                      Cleveland, MS   \n",
      "4             Sevierville, Tennessee   \n",
      "...                              ...   \n",
      "7995                  Mount Airy, MD   \n",
      "7996                     Ashburn, VA   \n",
      "7997                             NaN   \n",
      "7998                 Detroit, MI USA   \n",
      "7999                              CT   \n",
      "\n",
      "                                            review_text  \n",
      "0     This all-Spanish handbook for parents with new...  \n",
      "1     McCarthy's writing and portrayal of Lester Bal...  \n",
      "2     Do you giggle uncontrollably when poking corps...  \n",
      "3     I was initiated into the world of Cormac McCar...  \n",
      "4     I cannot speak to the literary points in the n...  \n",
      "...                                                 ...  \n",
      "7995  If I had been an editor and received \"Deadly S...  \n",
      "7996  This book is very disappointing. The writing i...  \n",
      "7997  I was extremely disappointed by this book/pamp...  \n",
      "7998  This book is the typical package of business i...  \n",
      "7999  And you shouldn't inhale.Several reviewers hav...  \n",
      "\n",
      "[8000 rows x 11 columns]\n"
     ]
    }
   ],
   "source": [
    "final_data=pd.concat([data,df3]).drop_duplicates().reset_index(drop=True)\n",
    "print(final_data)"
   ]
  },
  {
   "cell_type": "code",
   "execution_count": 13,
   "metadata": {},
   "outputs": [
    {
     "data": {
      "text/plain": [
       "(8000, 11)"
      ]
     },
     "execution_count": 13,
     "metadata": {},
     "output_type": "execute_result"
    }
   ],
   "source": [
    "final_data.shape"
   ]
  },
  {
   "cell_type": "markdown",
   "metadata": {},
   "source": [
    "# Checking and correcting null values"
   ]
  },
  {
   "cell_type": "code",
   "execution_count": 14,
   "metadata": {},
   "outputs": [
    {
     "data": {
      "text/plain": [
       "unique_id               0\n",
       "asin                    0\n",
       "product_name            0\n",
       "product_type            0\n",
       "helpful              1358\n",
       "rating                  0\n",
       "title                   1\n",
       "date                    1\n",
       "reviewer               34\n",
       "reviewer_location    1008\n",
       "review_text             0\n",
       "dtype: int64"
      ]
     },
     "execution_count": 14,
     "metadata": {},
     "output_type": "execute_result"
    }
   ],
   "source": [
    "final_data.isna().sum()"
   ]
  },
  {
   "cell_type": "code",
   "execution_count": 15,
   "metadata": {},
   "outputs": [],
   "source": [
    "dff=final_data"
   ]
  },
  {
   "cell_type": "code",
   "execution_count": 16,
   "metadata": {},
   "outputs": [
    {
     "data": {
      "text/plain": [
       "unique_id               0\n",
       "asin                    0\n",
       "product_name            0\n",
       "product_type            0\n",
       "helpful              1358\n",
       "rating                  0\n",
       "title                   1\n",
       "date                    1\n",
       "reviewer               34\n",
       "reviewer_location    1008\n",
       "review_text             0\n",
       "dtype: int64"
      ]
     },
     "execution_count": 16,
     "metadata": {},
     "output_type": "execute_result"
    }
   ],
   "source": [
    "dff.isna().sum()"
   ]
  },
  {
   "cell_type": "code",
   "execution_count": 17,
   "metadata": {},
   "outputs": [
    {
     "data": {
      "text/html": [
       "<div>\n",
       "<style scoped>\n",
       "    .dataframe tbody tr th:only-of-type {\n",
       "        vertical-align: middle;\n",
       "    }\n",
       "\n",
       "    .dataframe tbody tr th {\n",
       "        vertical-align: top;\n",
       "    }\n",
       "\n",
       "    .dataframe thead th {\n",
       "        text-align: right;\n",
       "    }\n",
       "</style>\n",
       "<table border=\"1\" class=\"dataframe\">\n",
       "  <thead>\n",
       "    <tr style=\"text-align: right;\">\n",
       "      <th></th>\n",
       "      <th>helpful</th>\n",
       "      <th>title</th>\n",
       "      <th>date</th>\n",
       "      <th>reviewer</th>\n",
       "      <th>reviewer_location</th>\n",
       "    </tr>\n",
       "  </thead>\n",
       "  <tbody>\n",
       "    <tr>\n",
       "      <th>0</th>\n",
       "      <td>7 of 8</td>\n",
       "      <td>A mainstay reference for Spanish-speaking home...</td>\n",
       "      <td>April 6, 2000</td>\n",
       "      <td>Midwest Book Review</td>\n",
       "      <td>Oregon, WI USA</td>\n",
       "    </tr>\n",
       "    <tr>\n",
       "      <th>1</th>\n",
       "      <td>0 of 1</td>\n",
       "      <td>You want the necrophiliac to escape?</td>\n",
       "      <td>October 20, 2006</td>\n",
       "      <td>Brian Asquith</td>\n",
       "      <td>NaN</td>\n",
       "    </tr>\n",
       "    <tr>\n",
       "      <th>2</th>\n",
       "      <td>2 of 5</td>\n",
       "      <td>Low brow and juvenile</td>\n",
       "      <td>September 26, 2006</td>\n",
       "      <td>Bruce Miller</td>\n",
       "      <td>Shippensburg, PA United States</td>\n",
       "    </tr>\n",
       "    <tr>\n",
       "      <th>3</th>\n",
       "      <td>4 of 5</td>\n",
       "      <td>McCarthy, a brave writer with an incredible co...</td>\n",
       "      <td>July 24, 2005</td>\n",
       "      <td>Christopher Davis \"Christopher E.D.\"</td>\n",
       "      <td>Cleveland, MS</td>\n",
       "    </tr>\n",
       "    <tr>\n",
       "      <th>4</th>\n",
       "      <td>11 of 14</td>\n",
       "      <td>SEVIERVILLE in Child of God</td>\n",
       "      <td>November 20, 2002</td>\n",
       "      <td>Alex Johnson</td>\n",
       "      <td>Sevierville, Tennessee</td>\n",
       "    </tr>\n",
       "    <tr>\n",
       "      <th>...</th>\n",
       "      <td>...</td>\n",
       "      <td>...</td>\n",
       "      <td>...</td>\n",
       "      <td>...</td>\n",
       "      <td>...</td>\n",
       "    </tr>\n",
       "    <tr>\n",
       "      <th>7995</th>\n",
       "      <td>5 of 10</td>\n",
       "      <td>a nice place to visit....</td>\n",
       "      <td>February 25, 2006</td>\n",
       "      <td>Nina Shishkoff \"mycologist\"</td>\n",
       "      <td>Mount Airy, MD</td>\n",
       "    </tr>\n",
       "    <tr>\n",
       "      <th>7996</th>\n",
       "      <td>2 of 3</td>\n",
       "      <td>boring</td>\n",
       "      <td>July 30, 2005</td>\n",
       "      <td>O. Gonzalez</td>\n",
       "      <td>Ashburn, VA</td>\n",
       "    </tr>\n",
       "    <tr>\n",
       "      <th>7997</th>\n",
       "      <td>7 of 7</td>\n",
       "      <td>Lacking</td>\n",
       "      <td>May 3, 2005</td>\n",
       "      <td>M. Roman \"matt1234567\"</td>\n",
       "      <td>NaN</td>\n",
       "    </tr>\n",
       "    <tr>\n",
       "      <th>7998</th>\n",
       "      <td>22 of 22</td>\n",
       "      <td>Okay for ideas</td>\n",
       "      <td>March 23, 2005</td>\n",
       "      <td>Stacy E. Burrell \"Stacy's Blog (See stacyburre...</td>\n",
       "      <td>Detroit, MI USA</td>\n",
       "    </tr>\n",
       "    <tr>\n",
       "      <th>7999</th>\n",
       "      <td>8 of 62</td>\n",
       "      <td>It's just \"Reefer Madness\"</td>\n",
       "      <td>August 13, 2004</td>\n",
       "      <td>R. Johns</td>\n",
       "      <td>CT</td>\n",
       "    </tr>\n",
       "  </tbody>\n",
       "</table>\n",
       "<p>8000 rows × 5 columns</p>\n",
       "</div>"
      ],
      "text/plain": [
       "       helpful                                              title  \\\n",
       "0       7 of 8  A mainstay reference for Spanish-speaking home...   \n",
       "1       0 of 1               You want the necrophiliac to escape?   \n",
       "2       2 of 5                              Low brow and juvenile   \n",
       "3       4 of 5  McCarthy, a brave writer with an incredible co...   \n",
       "4     11 of 14                        SEVIERVILLE in Child of God   \n",
       "...        ...                                                ...   \n",
       "7995   5 of 10                          a nice place to visit....   \n",
       "7996    2 of 3                                             boring   \n",
       "7997    7 of 7                                            Lacking   \n",
       "7998  22 of 22                                     Okay for ideas   \n",
       "7999   8 of 62                        It's just \"Reefer Madness\"    \n",
       "\n",
       "                    date                                           reviewer  \\\n",
       "0          April 6, 2000                                Midwest Book Review   \n",
       "1       October 20, 2006                                      Brian Asquith   \n",
       "2     September 26, 2006                                       Bruce Miller   \n",
       "3          July 24, 2005               Christopher Davis \"Christopher E.D.\"   \n",
       "4      November 20, 2002                                       Alex Johnson   \n",
       "...                  ...                                                ...   \n",
       "7995   February 25, 2006                        Nina Shishkoff \"mycologist\"   \n",
       "7996       July 30, 2005                                        O. Gonzalez   \n",
       "7997         May 3, 2005                             M. Roman \"matt1234567\"   \n",
       "7998      March 23, 2005  Stacy E. Burrell \"Stacy's Blog (See stacyburre...   \n",
       "7999     August 13, 2004                                           R. Johns   \n",
       "\n",
       "                   reviewer_location  \n",
       "0                     Oregon, WI USA  \n",
       "1                                NaN  \n",
       "2     Shippensburg, PA United States  \n",
       "3                      Cleveland, MS  \n",
       "4             Sevierville, Tennessee  \n",
       "...                              ...  \n",
       "7995                  Mount Airy, MD  \n",
       "7996                     Ashburn, VA  \n",
       "7997                             NaN  \n",
       "7998                 Detroit, MI USA  \n",
       "7999                              CT  \n",
       "\n",
       "[8000 rows x 5 columns]"
      ]
     },
     "execution_count": 17,
     "metadata": {},
     "output_type": "execute_result"
    }
   ],
   "source": [
    "dff[[\"helpful\",\"title\",\"date\",\"reviewer\",\"reviewer_location\"]]"
   ]
  },
  {
   "cell_type": "code",
   "execution_count": 18,
   "metadata": {},
   "outputs": [],
   "source": [
    "dff[\"helpful\"].fillna(\"not stated\", inplace = True)\n",
    "dff[\"title\"].fillna(\"not stated\", inplace = True)\n",
    "dff[\"date\"].fillna(\"not noted\", inplace = True)\n",
    "dff[\"reviewer\"].fillna(\"not stated\", inplace = True)\n",
    "dff[\"reviewer_location\"].fillna(\"not stated\", inplace = True)"
   ]
  },
  {
   "cell_type": "code",
   "execution_count": 19,
   "metadata": {},
   "outputs": [
    {
     "data": {
      "text/plain": [
       "unique_id            0\n",
       "asin                 0\n",
       "product_name         0\n",
       "product_type         0\n",
       "helpful              0\n",
       "rating               0\n",
       "title                0\n",
       "date                 0\n",
       "reviewer             0\n",
       "reviewer_location    0\n",
       "review_text          0\n",
       "dtype: int64"
      ]
     },
     "execution_count": 19,
     "metadata": {},
     "output_type": "execute_result"
    }
   ],
   "source": [
    "dff.isna().sum()"
   ]
  },
  {
   "cell_type": "markdown",
   "metadata": {},
   "source": [
    "# lower caseing words"
   ]
  },
  {
   "cell_type": "code",
   "execution_count": 20,
   "metadata": {},
   "outputs": [
    {
     "data": {
      "text/html": [
       "<div>\n",
       "<style scoped>\n",
       "    .dataframe tbody tr th:only-of-type {\n",
       "        vertical-align: middle;\n",
       "    }\n",
       "\n",
       "    .dataframe tbody tr th {\n",
       "        vertical-align: top;\n",
       "    }\n",
       "\n",
       "    .dataframe thead th {\n",
       "        text-align: right;\n",
       "    }\n",
       "</style>\n",
       "<table border=\"1\" class=\"dataframe\">\n",
       "  <thead>\n",
       "    <tr style=\"text-align: right;\">\n",
       "      <th></th>\n",
       "      <th>unique_id</th>\n",
       "      <th>asin</th>\n",
       "      <th>product_name</th>\n",
       "      <th>product_type</th>\n",
       "      <th>helpful</th>\n",
       "      <th>rating</th>\n",
       "      <th>title</th>\n",
       "      <th>date</th>\n",
       "      <th>reviewer</th>\n",
       "      <th>reviewer_location</th>\n",
       "      <th>review_text</th>\n",
       "      <th>unique_ids</th>\n",
       "      <th>name_of_product</th>\n",
       "      <th>title_lower</th>\n",
       "      <th>reviewers</th>\n",
       "      <th>reviewers_location</th>\n",
       "      <th>review</th>\n",
       "    </tr>\n",
       "  </thead>\n",
       "  <tbody>\n",
       "    <tr>\n",
       "      <th>0</th>\n",
       "      <td>1884956068:a_mainstay_reference_for_spanish-sp...</td>\n",
       "      <td>1884956068</td>\n",
       "      <td>Manual pedi�trico para los due�os del nuevo be...</td>\n",
       "      <td>books</td>\n",
       "      <td>7 of 8</td>\n",
       "      <td>5.0</td>\n",
       "      <td>A mainstay reference for Spanish-speaking home...</td>\n",
       "      <td>April 6, 2000</td>\n",
       "      <td>Midwest Book Review</td>\n",
       "      <td>Oregon, WI USA</td>\n",
       "      <td>This all-Spanish handbook for parents with new...</td>\n",
       "      <td>1884956068:a_mainstay_reference_for_spanish-sp...</td>\n",
       "      <td>manual pedi�trico para los due�os del nuevo be...</td>\n",
       "      <td>a mainstay reference for spanish-speaking home...</td>\n",
       "      <td>midwest book review</td>\n",
       "      <td>oregon, wi usa</td>\n",
       "      <td>this all-spanish handbook for parents with new...</td>\n",
       "    </tr>\n",
       "    <tr>\n",
       "      <th>1</th>\n",
       "      <td>0679728740:you_want_the_necrophiliac_to_escape...</td>\n",
       "      <td>0679728740</td>\n",
       "      <td>Child of God: Books: Cormac Mccarthy</td>\n",
       "      <td>books</td>\n",
       "      <td>0 of 1</td>\n",
       "      <td>5.0</td>\n",
       "      <td>You want the necrophiliac to escape?</td>\n",
       "      <td>October 20, 2006</td>\n",
       "      <td>Brian Asquith</td>\n",
       "      <td>not stated</td>\n",
       "      <td>McCarthy's writing and portrayal of Lester Bal...</td>\n",
       "      <td>0679728740:you_want_the_necrophiliac_to_escape...</td>\n",
       "      <td>child of god: books: cormac mccarthy</td>\n",
       "      <td>you want the necrophiliac to escape?</td>\n",
       "      <td>brian asquith</td>\n",
       "      <td>not stated</td>\n",
       "      <td>mccarthy's writing and portrayal of lester bal...</td>\n",
       "    </tr>\n",
       "    <tr>\n",
       "      <th>2</th>\n",
       "      <td>0679728740:low_brow_and_juvenile:bruce_miller</td>\n",
       "      <td>0679728740</td>\n",
       "      <td>Child of God: Books: Cormac Mccarthy</td>\n",
       "      <td>books</td>\n",
       "      <td>2 of 5</td>\n",
       "      <td>2.0</td>\n",
       "      <td>Low brow and juvenile</td>\n",
       "      <td>September 26, 2006</td>\n",
       "      <td>Bruce Miller</td>\n",
       "      <td>Shippensburg, PA United States</td>\n",
       "      <td>Do you giggle uncontrollably when poking corps...</td>\n",
       "      <td>0679728740:low_brow_and_juvenile:bruce_miller</td>\n",
       "      <td>child of god: books: cormac mccarthy</td>\n",
       "      <td>low brow and juvenile</td>\n",
       "      <td>bruce miller</td>\n",
       "      <td>shippensburg, pa united states</td>\n",
       "      <td>do you giggle uncontrollably when poking corps...</td>\n",
       "    </tr>\n",
       "    <tr>\n",
       "      <th>3</th>\n",
       "      <td>0679728740:mccarthy,_a_brave_writer_with_an_in...</td>\n",
       "      <td>0679728740</td>\n",
       "      <td>Child of God: Books: Cormac Mccarthy</td>\n",
       "      <td>books</td>\n",
       "      <td>4 of 5</td>\n",
       "      <td>5.0</td>\n",
       "      <td>McCarthy, a brave writer with an incredible co...</td>\n",
       "      <td>July 24, 2005</td>\n",
       "      <td>Christopher Davis \"Christopher E.D.\"</td>\n",
       "      <td>Cleveland, MS</td>\n",
       "      <td>I was initiated into the world of Cormac McCar...</td>\n",
       "      <td>0679728740:mccarthy,_a_brave_writer_with_an_in...</td>\n",
       "      <td>child of god: books: cormac mccarthy</td>\n",
       "      <td>mccarthy, a brave writer with an incredible co...</td>\n",
       "      <td>christopher davis \"christopher e.d.\"</td>\n",
       "      <td>cleveland, ms</td>\n",
       "      <td>i was initiated into the world of cormac mccar...</td>\n",
       "    </tr>\n",
       "    <tr>\n",
       "      <th>4</th>\n",
       "      <td>0679728740:sevierville_in_child_of_god:alex_jo...</td>\n",
       "      <td>0679728740</td>\n",
       "      <td>Child of God: Books: Cormac Mccarthy</td>\n",
       "      <td>books</td>\n",
       "      <td>11 of 14</td>\n",
       "      <td>4.0</td>\n",
       "      <td>SEVIERVILLE in Child of God</td>\n",
       "      <td>November 20, 2002</td>\n",
       "      <td>Alex Johnson</td>\n",
       "      <td>Sevierville, Tennessee</td>\n",
       "      <td>I cannot speak to the literary points in the n...</td>\n",
       "      <td>0679728740:sevierville_in_child_of_god:alex_jo...</td>\n",
       "      <td>child of god: books: cormac mccarthy</td>\n",
       "      <td>sevierville in child of god</td>\n",
       "      <td>alex johnson</td>\n",
       "      <td>sevierville, tennessee</td>\n",
       "      <td>i cannot speak to the literary points in the n...</td>\n",
       "    </tr>\n",
       "  </tbody>\n",
       "</table>\n",
       "</div>"
      ],
      "text/plain": [
       "                                           unique_id        asin  \\\n",
       "0  1884956068:a_mainstay_reference_for_spanish-sp...  1884956068   \n",
       "1  0679728740:you_want_the_necrophiliac_to_escape...  0679728740   \n",
       "2      0679728740:low_brow_and_juvenile:bruce_miller  0679728740   \n",
       "3  0679728740:mccarthy,_a_brave_writer_with_an_in...  0679728740   \n",
       "4  0679728740:sevierville_in_child_of_god:alex_jo...  0679728740   \n",
       "\n",
       "                                        product_name product_type   helpful  \\\n",
       "0  Manual pedi�trico para los due�os del nuevo be...        books    7 of 8   \n",
       "1               Child of God: Books: Cormac Mccarthy        books    0 of 1   \n",
       "2               Child of God: Books: Cormac Mccarthy        books    2 of 5   \n",
       "3               Child of God: Books: Cormac Mccarthy        books    4 of 5   \n",
       "4               Child of God: Books: Cormac Mccarthy        books  11 of 14   \n",
       "\n",
       "   rating                                              title  \\\n",
       "0     5.0  A mainstay reference for Spanish-speaking home...   \n",
       "1     5.0               You want the necrophiliac to escape?   \n",
       "2     2.0                              Low brow and juvenile   \n",
       "3     5.0  McCarthy, a brave writer with an incredible co...   \n",
       "4     4.0                        SEVIERVILLE in Child of God   \n",
       "\n",
       "                 date                              reviewer  \\\n",
       "0       April 6, 2000                   Midwest Book Review   \n",
       "1    October 20, 2006                         Brian Asquith   \n",
       "2  September 26, 2006                          Bruce Miller   \n",
       "3       July 24, 2005  Christopher Davis \"Christopher E.D.\"   \n",
       "4   November 20, 2002                          Alex Johnson   \n",
       "\n",
       "                reviewer_location  \\\n",
       "0                  Oregon, WI USA   \n",
       "1                      not stated   \n",
       "2  Shippensburg, PA United States   \n",
       "3                   Cleveland, MS   \n",
       "4          Sevierville, Tennessee   \n",
       "\n",
       "                                         review_text  \\\n",
       "0  This all-Spanish handbook for parents with new...   \n",
       "1  McCarthy's writing and portrayal of Lester Bal...   \n",
       "2  Do you giggle uncontrollably when poking corps...   \n",
       "3  I was initiated into the world of Cormac McCar...   \n",
       "4  I cannot speak to the literary points in the n...   \n",
       "\n",
       "                                          unique_ids  \\\n",
       "0  1884956068:a_mainstay_reference_for_spanish-sp...   \n",
       "1  0679728740:you_want_the_necrophiliac_to_escape...   \n",
       "2      0679728740:low_brow_and_juvenile:bruce_miller   \n",
       "3  0679728740:mccarthy,_a_brave_writer_with_an_in...   \n",
       "4  0679728740:sevierville_in_child_of_god:alex_jo...   \n",
       "\n",
       "                                     name_of_product  \\\n",
       "0  manual pedi�trico para los due�os del nuevo be...   \n",
       "1               child of god: books: cormac mccarthy   \n",
       "2               child of god: books: cormac mccarthy   \n",
       "3               child of god: books: cormac mccarthy   \n",
       "4               child of god: books: cormac mccarthy   \n",
       "\n",
       "                                         title_lower  \\\n",
       "0  a mainstay reference for spanish-speaking home...   \n",
       "1               you want the necrophiliac to escape?   \n",
       "2                              low brow and juvenile   \n",
       "3  mccarthy, a brave writer with an incredible co...   \n",
       "4                        sevierville in child of god   \n",
       "\n",
       "                              reviewers              reviewers_location  \\\n",
       "0                   midwest book review                  oregon, wi usa   \n",
       "1                         brian asquith                      not stated   \n",
       "2                          bruce miller  shippensburg, pa united states   \n",
       "3  christopher davis \"christopher e.d.\"                   cleveland, ms   \n",
       "4                          alex johnson          sevierville, tennessee   \n",
       "\n",
       "                                              review  \n",
       "0  this all-spanish handbook for parents with new...  \n",
       "1  mccarthy's writing and portrayal of lester bal...  \n",
       "2  do you giggle uncontrollably when poking corps...  \n",
       "3  i was initiated into the world of cormac mccar...  \n",
       "4  i cannot speak to the literary points in the n...  "
      ]
     },
     "execution_count": 20,
     "metadata": {},
     "output_type": "execute_result"
    }
   ],
   "source": [
    "dff[\"unique_ids\"]=dff[\"unique_id\"].str.lower()\n",
    "dff[\"name_of_product\"]=dff[\"product_name\"].str.lower()\n",
    "dff[\"title_lower\"]=dff[\"title\"].str.lower()\n",
    "dff[\"reviewers\"]=dff[\"reviewer\"].str.lower()\n",
    "dff[\"reviewers_location\"]=dff[\"reviewer_location\"].str.lower()\n",
    "dff[\"review\"]=dff[\"review_text\"].str.lower()\n",
    "\n",
    "dff.head()"
   ]
  },
  {
   "cell_type": "code",
   "execution_count": 21,
   "metadata": {},
   "outputs": [],
   "source": [
    "dff.drop(['unique_ids','asin','name_of_product','product_name','product_type','helpful','title','unique_id','reviewer','reviewer_location','review_text','rating','title_lower','date','reviewers','reviewers_location'],axis=1,inplace=True)"
   ]
  },
  {
   "cell_type": "code",
   "execution_count": 22,
   "metadata": {},
   "outputs": [],
   "source": [
    "dff['review'] = dff['review'].astype(str)"
   ]
  },
  {
   "cell_type": "markdown",
   "metadata": {},
   "source": [
    "# Removing punctuation marks"
   ]
  },
  {
   "cell_type": "code",
   "execution_count": 23,
   "metadata": {},
   "outputs": [],
   "source": [
    "import string\n",
    "PUNCT_TO_REMOVE = string.punctuation\n",
    "def remove_punctuation(review):\n",
    "    return review.translate(str.maketrans('', '', PUNCT_TO_REMOVE))\n",
    "\n",
    "dff['clean_review']= dff['review'].apply(lambda x:remove_punctuation(x))"
   ]
  },
  {
   "cell_type": "code",
   "execution_count": 24,
   "metadata": {},
   "outputs": [
    {
     "data": {
      "text/html": [
       "<div>\n",
       "<style scoped>\n",
       "    .dataframe tbody tr th:only-of-type {\n",
       "        vertical-align: middle;\n",
       "    }\n",
       "\n",
       "    .dataframe tbody tr th {\n",
       "        vertical-align: top;\n",
       "    }\n",
       "\n",
       "    .dataframe thead th {\n",
       "        text-align: right;\n",
       "    }\n",
       "</style>\n",
       "<table border=\"1\" class=\"dataframe\">\n",
       "  <thead>\n",
       "    <tr style=\"text-align: right;\">\n",
       "      <th></th>\n",
       "      <th>review</th>\n",
       "      <th>clean_review</th>\n",
       "    </tr>\n",
       "  </thead>\n",
       "  <tbody>\n",
       "    <tr>\n",
       "      <th>0</th>\n",
       "      <td>this all-spanish handbook for parents with new...</td>\n",
       "      <td>this allspanish handbook for parents with new ...</td>\n",
       "    </tr>\n",
       "    <tr>\n",
       "      <th>1</th>\n",
       "      <td>mccarthy's writing and portrayal of lester bal...</td>\n",
       "      <td>mccarthys writing and portrayal of lester ball...</td>\n",
       "    </tr>\n",
       "    <tr>\n",
       "      <th>2</th>\n",
       "      <td>do you giggle uncontrollably when poking corps...</td>\n",
       "      <td>do you giggle uncontrollably when poking corps...</td>\n",
       "    </tr>\n",
       "    <tr>\n",
       "      <th>3</th>\n",
       "      <td>i was initiated into the world of cormac mccar...</td>\n",
       "      <td>i was initiated into the world of cormac mccar...</td>\n",
       "    </tr>\n",
       "    <tr>\n",
       "      <th>4</th>\n",
       "      <td>i cannot speak to the literary points in the n...</td>\n",
       "      <td>i cannot speak to the literary points in the n...</td>\n",
       "    </tr>\n",
       "  </tbody>\n",
       "</table>\n",
       "</div>"
      ],
      "text/plain": [
       "                                              review  \\\n",
       "0  this all-spanish handbook for parents with new...   \n",
       "1  mccarthy's writing and portrayal of lester bal...   \n",
       "2  do you giggle uncontrollably when poking corps...   \n",
       "3  i was initiated into the world of cormac mccar...   \n",
       "4  i cannot speak to the literary points in the n...   \n",
       "\n",
       "                                        clean_review  \n",
       "0  this allspanish handbook for parents with new ...  \n",
       "1  mccarthys writing and portrayal of lester ball...  \n",
       "2  do you giggle uncontrollably when poking corps...  \n",
       "3  i was initiated into the world of cormac mccar...  \n",
       "4  i cannot speak to the literary points in the n...  "
      ]
     },
     "execution_count": 24,
     "metadata": {},
     "output_type": "execute_result"
    }
   ],
   "source": [
    "dff.head()"
   ]
  },
  {
   "cell_type": "code",
   "execution_count": 25,
   "metadata": {},
   "outputs": [
    {
     "data": {
      "text/plain": [
       "['review', 'clean_review']"
      ]
     },
     "execution_count": 25,
     "metadata": {},
     "output_type": "execute_result"
    }
   ],
   "source": [
    "list(dff.columns)"
   ]
  },
  {
   "cell_type": "markdown",
   "metadata": {},
   "source": [
    "# Tokenisation"
   ]
  },
  {
   "cell_type": "code",
   "execution_count": 26,
   "metadata": {},
   "outputs": [],
   "source": [
    "import re\n",
    "def i(clean_review):\n",
    "    tokens=re.findall(r'\\s?(\\s*\\S+)', clean_review.rstrip())\n",
    "    return tokens\n",
    "\n",
    "dff['review_tokenied']= dff['clean_review'].apply(lambda x: i(x))"
   ]
  },
  {
   "cell_type": "code",
   "execution_count": 27,
   "metadata": {},
   "outputs": [
    {
     "data": {
      "text/html": [
       "<div>\n",
       "<style scoped>\n",
       "    .dataframe tbody tr th:only-of-type {\n",
       "        vertical-align: middle;\n",
       "    }\n",
       "\n",
       "    .dataframe tbody tr th {\n",
       "        vertical-align: top;\n",
       "    }\n",
       "\n",
       "    .dataframe thead th {\n",
       "        text-align: right;\n",
       "    }\n",
       "</style>\n",
       "<table border=\"1\" class=\"dataframe\">\n",
       "  <thead>\n",
       "    <tr style=\"text-align: right;\">\n",
       "      <th></th>\n",
       "      <th>review</th>\n",
       "      <th>clean_review</th>\n",
       "      <th>review_tokenied</th>\n",
       "    </tr>\n",
       "  </thead>\n",
       "  <tbody>\n",
       "    <tr>\n",
       "      <th>0</th>\n",
       "      <td>this all-spanish handbook for parents with new...</td>\n",
       "      <td>this allspanish handbook for parents with new ...</td>\n",
       "      <td>[this, allspanish, handbook, for, parents, wit...</td>\n",
       "    </tr>\n",
       "    <tr>\n",
       "      <th>1</th>\n",
       "      <td>mccarthy's writing and portrayal of lester bal...</td>\n",
       "      <td>mccarthys writing and portrayal of lester ball...</td>\n",
       "      <td>[mccarthys, writing, and, portrayal, of, leste...</td>\n",
       "    </tr>\n",
       "    <tr>\n",
       "      <th>2</th>\n",
       "      <td>do you giggle uncontrollably when poking corps...</td>\n",
       "      <td>do you giggle uncontrollably when poking corps...</td>\n",
       "      <td>[do, you, giggle, uncontrollably, when, poking...</td>\n",
       "    </tr>\n",
       "    <tr>\n",
       "      <th>3</th>\n",
       "      <td>i was initiated into the world of cormac mccar...</td>\n",
       "      <td>i was initiated into the world of cormac mccar...</td>\n",
       "      <td>[i, was, initiated, into, the, world, of, corm...</td>\n",
       "    </tr>\n",
       "    <tr>\n",
       "      <th>4</th>\n",
       "      <td>i cannot speak to the literary points in the n...</td>\n",
       "      <td>i cannot speak to the literary points in the n...</td>\n",
       "      <td>[i, cannot, speak, to, the, literary, points, ...</td>\n",
       "    </tr>\n",
       "  </tbody>\n",
       "</table>\n",
       "</div>"
      ],
      "text/plain": [
       "                                              review  \\\n",
       "0  this all-spanish handbook for parents with new...   \n",
       "1  mccarthy's writing and portrayal of lester bal...   \n",
       "2  do you giggle uncontrollably when poking corps...   \n",
       "3  i was initiated into the world of cormac mccar...   \n",
       "4  i cannot speak to the literary points in the n...   \n",
       "\n",
       "                                        clean_review  \\\n",
       "0  this allspanish handbook for parents with new ...   \n",
       "1  mccarthys writing and portrayal of lester ball...   \n",
       "2  do you giggle uncontrollably when poking corps...   \n",
       "3  i was initiated into the world of cormac mccar...   \n",
       "4  i cannot speak to the literary points in the n...   \n",
       "\n",
       "                                     review_tokenied  \n",
       "0  [this, allspanish, handbook, for, parents, wit...  \n",
       "1  [mccarthys, writing, and, portrayal, of, leste...  \n",
       "2  [do, you, giggle, uncontrollably, when, poking...  \n",
       "3  [i, was, initiated, into, the, world, of, corm...  \n",
       "4  [i, cannot, speak, to, the, literary, points, ...  "
      ]
     },
     "execution_count": 27,
     "metadata": {},
     "output_type": "execute_result"
    }
   ],
   "source": [
    "dff.head()"
   ]
  },
  {
   "cell_type": "markdown",
   "metadata": {},
   "source": [
    "# removal of stopwords"
   ]
  },
  {
   "cell_type": "code",
   "execution_count": 28,
   "metadata": {},
   "outputs": [
    {
     "name": "stderr",
     "output_type": "stream",
     "text": [
      "[nltk_data] Downloading package stopwords to\n",
      "[nltk_data]     C:\\Users\\ABC\\AppData\\Roaming\\nltk_data...\n"
     ]
    },
    {
     "name": "stdout",
     "output_type": "stream",
     "text": [
      "['i', 'me', 'my', 'myself', 'we', 'our', 'ours', 'ourselves', 'you', \"you're\", \"you've\", \"you'll\", \"you'd\", 'your', 'yours', 'yourself', 'yourselves', 'he', 'him', 'his', 'himself', 'she', \"she's\", 'her', 'hers', 'herself', 'it', \"it's\", 'its', 'itself', 'they', 'them', 'their', 'theirs', 'themselves', 'what', 'which', 'who', 'whom', 'this', 'that', \"that'll\", 'these', 'those', 'am', 'is', 'are', 'was', 'were', 'be', 'been', 'being', 'have', 'has', 'had', 'having', 'do', 'does', 'did', 'doing', 'a', 'an', 'the', 'and', 'but', 'if', 'or', 'because', 'as', 'until', 'while', 'of', 'at', 'by', 'for', 'with', 'about', 'against', 'between', 'into', 'through', 'during', 'before', 'after', 'above', 'below', 'to', 'from', 'up', 'down', 'in', 'out', 'on', 'off', 'over', 'under', 'again', 'further', 'then', 'once', 'here', 'there', 'when', 'where', 'why', 'how', 'all', 'any', 'both', 'each', 'few', 'more', 'most', 'other', 'some', 'such', 'no', 'nor', 'not', 'only', 'own', 'same', 'so', 'than', 'too', 'very', 's', 't', 'can', 'will', 'just', 'don', \"don't\", 'should', \"should've\", 'now', 'd', 'll', 'm', 'o', 're', 've', 'y', 'ain', 'aren', \"aren't\", 'couldn', \"couldn't\", 'didn', \"didn't\", 'doesn', \"doesn't\", 'hadn', \"hadn't\", 'hasn', \"hasn't\", 'haven', \"haven't\", 'isn', \"isn't\", 'ma', 'mightn', \"mightn't\", 'mustn', \"mustn't\", 'needn', \"needn't\", 'shan', \"shan't\", 'shouldn', \"shouldn't\", 'wasn', \"wasn't\", 'weren', \"weren't\", 'won', \"won't\", 'wouldn', \"wouldn't\"]\n"
     ]
    },
    {
     "name": "stderr",
     "output_type": "stream",
     "text": [
      "[nltk_data]   Package stopwords is already up-to-date!\n"
     ]
    }
   ],
   "source": [
    "#importing nlp library\n",
    "import nltk\n",
    "nltk.download('stopwords')\n",
    "\n",
    "stopwords = nltk.corpus.stopwords.words('english')\n",
    "print(stopwords)"
   ]
  },
  {
   "cell_type": "code",
   "execution_count": 29,
   "metadata": {},
   "outputs": [],
   "source": [
    "def remove_stopwords(review_tokenied):\n",
    "    output= [i for i in review_tokenied if i not in stopwords]\n",
    "    return output\n",
    "\n",
    "dff['review_nostop']= dff['review_tokenied'].apply(lambda x:remove_stopwords(x))"
   ]
  },
  {
   "cell_type": "code",
   "execution_count": 30,
   "metadata": {},
   "outputs": [
    {
     "data": {
      "text/html": [
       "<div>\n",
       "<style scoped>\n",
       "    .dataframe tbody tr th:only-of-type {\n",
       "        vertical-align: middle;\n",
       "    }\n",
       "\n",
       "    .dataframe tbody tr th {\n",
       "        vertical-align: top;\n",
       "    }\n",
       "\n",
       "    .dataframe thead th {\n",
       "        text-align: right;\n",
       "    }\n",
       "</style>\n",
       "<table border=\"1\" class=\"dataframe\">\n",
       "  <thead>\n",
       "    <tr style=\"text-align: right;\">\n",
       "      <th></th>\n",
       "      <th>review</th>\n",
       "      <th>clean_review</th>\n",
       "      <th>review_tokenied</th>\n",
       "      <th>review_nostop</th>\n",
       "    </tr>\n",
       "  </thead>\n",
       "  <tbody>\n",
       "    <tr>\n",
       "      <th>0</th>\n",
       "      <td>this all-spanish handbook for parents with new...</td>\n",
       "      <td>this allspanish handbook for parents with new ...</td>\n",
       "      <td>[this, allspanish, handbook, for, parents, wit...</td>\n",
       "      <td>[allspanish, handbook, parents, new, babies, p...</td>\n",
       "    </tr>\n",
       "    <tr>\n",
       "      <th>1</th>\n",
       "      <td>mccarthy's writing and portrayal of lester bal...</td>\n",
       "      <td>mccarthys writing and portrayal of lester ball...</td>\n",
       "      <td>[mccarthys, writing, and, portrayal, of, leste...</td>\n",
       "      <td>[mccarthys, writing, portrayal, lester, ballar...</td>\n",
       "    </tr>\n",
       "    <tr>\n",
       "      <th>2</th>\n",
       "      <td>do you giggle uncontrollably when poking corps...</td>\n",
       "      <td>do you giggle uncontrollably when poking corps...</td>\n",
       "      <td>[do, you, giggle, uncontrollably, when, poking...</td>\n",
       "      <td>[giggle, uncontrollably, poking, corpses, stic...</td>\n",
       "    </tr>\n",
       "    <tr>\n",
       "      <th>3</th>\n",
       "      <td>i was initiated into the world of cormac mccar...</td>\n",
       "      <td>i was initiated into the world of cormac mccar...</td>\n",
       "      <td>[i, was, initiated, into, the, world, of, corm...</td>\n",
       "      <td>[initiated, world, cormac, mccarthy, novel, so...</td>\n",
       "    </tr>\n",
       "    <tr>\n",
       "      <th>4</th>\n",
       "      <td>i cannot speak to the literary points in the n...</td>\n",
       "      <td>i cannot speak to the literary points in the n...</td>\n",
       "      <td>[i, cannot, speak, to, the, literary, points, ...</td>\n",
       "      <td>[cannot, speak, literary, points, novel, thoug...</td>\n",
       "    </tr>\n",
       "  </tbody>\n",
       "</table>\n",
       "</div>"
      ],
      "text/plain": [
       "                                              review  \\\n",
       "0  this all-spanish handbook for parents with new...   \n",
       "1  mccarthy's writing and portrayal of lester bal...   \n",
       "2  do you giggle uncontrollably when poking corps...   \n",
       "3  i was initiated into the world of cormac mccar...   \n",
       "4  i cannot speak to the literary points in the n...   \n",
       "\n",
       "                                        clean_review  \\\n",
       "0  this allspanish handbook for parents with new ...   \n",
       "1  mccarthys writing and portrayal of lester ball...   \n",
       "2  do you giggle uncontrollably when poking corps...   \n",
       "3  i was initiated into the world of cormac mccar...   \n",
       "4  i cannot speak to the literary points in the n...   \n",
       "\n",
       "                                     review_tokenied  \\\n",
       "0  [this, allspanish, handbook, for, parents, wit...   \n",
       "1  [mccarthys, writing, and, portrayal, of, leste...   \n",
       "2  [do, you, giggle, uncontrollably, when, poking...   \n",
       "3  [i, was, initiated, into, the, world, of, corm...   \n",
       "4  [i, cannot, speak, to, the, literary, points, ...   \n",
       "\n",
       "                                       review_nostop  \n",
       "0  [allspanish, handbook, parents, new, babies, p...  \n",
       "1  [mccarthys, writing, portrayal, lester, ballar...  \n",
       "2  [giggle, uncontrollably, poking, corpses, stic...  \n",
       "3  [initiated, world, cormac, mccarthy, novel, so...  \n",
       "4  [cannot, speak, literary, points, novel, thoug...  "
      ]
     },
     "execution_count": 30,
     "metadata": {},
     "output_type": "execute_result"
    }
   ],
   "source": [
    "dff.head()"
   ]
  },
  {
   "cell_type": "markdown",
   "metadata": {},
   "source": [
    "# Frequent words"
   ]
  },
  {
   "cell_type": "code",
   "execution_count": 31,
   "metadata": {},
   "outputs": [
    {
     "data": {
      "text/plain": [
       "'           29396\n",
       "'book',     14286\n",
       "'one',       4842\n",
       "'read',      4817\n",
       "'like',      3099\n",
       "'would',     2951\n",
       "i',          2822\n",
       "the',        2595\n",
       "'time',      2423\n",
       "'story',     2360\n",
       "dtype: int64"
      ]
     },
     "execution_count": 31,
     "metadata": {},
     "output_type": "execute_result"
    }
   ],
   "source": [
    "dff['review_nostop']= dff['review_nostop'].astype(str)\n",
    "most = pd.Series(' '.join(dff['review_nostop']).split()).value_counts()[:10]\n",
    "most"
   ]
  },
  {
   "cell_type": "code",
   "execution_count": 32,
   "metadata": {},
   "outputs": [
    {
     "data": {
      "text/plain": [
       "0       ['allspanish', 'handbook', 'parents', 'new', '...\n",
       "1       ['mccarthys', 'writing', 'portrayal', 'lester'...\n",
       "2       ['giggle', 'uncontrollably', 'poking', 'corpse...\n",
       "3       ['initiated', 'world', 'cormac', 'mccarthy', '...\n",
       "4       ['cannot', 'speak', 'literary', 'points', 'nov...\n",
       "                              ...                        \n",
       "7995    ['editor', 'received', 'deadly', 'slipperi', '...\n",
       "7996    ['book', 'disappointing', 'writing', 'terrible...\n",
       "7997    ['extremely', 'disappointed', 'bookpamphlet', ...\n",
       "7998    ['book', 'typical', 'package', 'business', 'id...\n",
       "7999    ['shouldnt', 'inhaleseveral', 'reviewers', 'ec...\n",
       "Name: review_stopfreq, Length: 8000, dtype: object"
      ]
     },
     "execution_count": 32,
     "metadata": {},
     "output_type": "execute_result"
    }
   ],
   "source": [
    "most = list(most.index)\n",
    "def remove_freqwords(review_nostop):\n",
    "    return \" \".join([word for word in review_nostop.split() if word not in most])\n",
    "\n",
    "dff[\"review_stopfreq\"] = dff[\"review_nostop\"].apply(lambda review_nostop: remove_freqwords(review_nostop))\n",
    "dff[\"review_stopfreq\"]"
   ]
  },
  {
   "cell_type": "code",
   "execution_count": 33,
   "metadata": {},
   "outputs": [
    {
     "data": {
      "text/html": [
       "<div>\n",
       "<style scoped>\n",
       "    .dataframe tbody tr th:only-of-type {\n",
       "        vertical-align: middle;\n",
       "    }\n",
       "\n",
       "    .dataframe tbody tr th {\n",
       "        vertical-align: top;\n",
       "    }\n",
       "\n",
       "    .dataframe thead th {\n",
       "        text-align: right;\n",
       "    }\n",
       "</style>\n",
       "<table border=\"1\" class=\"dataframe\">\n",
       "  <thead>\n",
       "    <tr style=\"text-align: right;\">\n",
       "      <th></th>\n",
       "      <th>review</th>\n",
       "      <th>clean_review</th>\n",
       "      <th>review_tokenied</th>\n",
       "      <th>review_nostop</th>\n",
       "      <th>review_stopfreq</th>\n",
       "    </tr>\n",
       "  </thead>\n",
       "  <tbody>\n",
       "    <tr>\n",
       "      <th>0</th>\n",
       "      <td>this all-spanish handbook for parents with new...</td>\n",
       "      <td>this allspanish handbook for parents with new ...</td>\n",
       "      <td>[this, allspanish, handbook, for, parents, wit...</td>\n",
       "      <td>['allspanish', 'handbook', 'parents', 'new', '...</td>\n",
       "      <td>['allspanish', 'handbook', 'parents', 'new', '...</td>\n",
       "    </tr>\n",
       "    <tr>\n",
       "      <th>1</th>\n",
       "      <td>mccarthy's writing and portrayal of lester bal...</td>\n",
       "      <td>mccarthys writing and portrayal of lester ball...</td>\n",
       "      <td>[mccarthys, writing, and, portrayal, of, leste...</td>\n",
       "      <td>['mccarthys', 'writing', 'portrayal', 'lester'...</td>\n",
       "      <td>['mccarthys', 'writing', 'portrayal', 'lester'...</td>\n",
       "    </tr>\n",
       "    <tr>\n",
       "      <th>2</th>\n",
       "      <td>do you giggle uncontrollably when poking corps...</td>\n",
       "      <td>do you giggle uncontrollably when poking corps...</td>\n",
       "      <td>[do, you, giggle, uncontrollably, when, poking...</td>\n",
       "      <td>['giggle', 'uncontrollably', 'poking', 'corpse...</td>\n",
       "      <td>['giggle', 'uncontrollably', 'poking', 'corpse...</td>\n",
       "    </tr>\n",
       "    <tr>\n",
       "      <th>3</th>\n",
       "      <td>i was initiated into the world of cormac mccar...</td>\n",
       "      <td>i was initiated into the world of cormac mccar...</td>\n",
       "      <td>[i, was, initiated, into, the, world, of, corm...</td>\n",
       "      <td>['initiated', 'world', 'cormac', 'mccarthy', '...</td>\n",
       "      <td>['initiated', 'world', 'cormac', 'mccarthy', '...</td>\n",
       "    </tr>\n",
       "    <tr>\n",
       "      <th>4</th>\n",
       "      <td>i cannot speak to the literary points in the n...</td>\n",
       "      <td>i cannot speak to the literary points in the n...</td>\n",
       "      <td>[i, cannot, speak, to, the, literary, points, ...</td>\n",
       "      <td>['cannot', 'speak', 'literary', 'points', 'nov...</td>\n",
       "      <td>['cannot', 'speak', 'literary', 'points', 'nov...</td>\n",
       "    </tr>\n",
       "  </tbody>\n",
       "</table>\n",
       "</div>"
      ],
      "text/plain": [
       "                                              review  \\\n",
       "0  this all-spanish handbook for parents with new...   \n",
       "1  mccarthy's writing and portrayal of lester bal...   \n",
       "2  do you giggle uncontrollably when poking corps...   \n",
       "3  i was initiated into the world of cormac mccar...   \n",
       "4  i cannot speak to the literary points in the n...   \n",
       "\n",
       "                                        clean_review  \\\n",
       "0  this allspanish handbook for parents with new ...   \n",
       "1  mccarthys writing and portrayal of lester ball...   \n",
       "2  do you giggle uncontrollably when poking corps...   \n",
       "3  i was initiated into the world of cormac mccar...   \n",
       "4  i cannot speak to the literary points in the n...   \n",
       "\n",
       "                                     review_tokenied  \\\n",
       "0  [this, allspanish, handbook, for, parents, wit...   \n",
       "1  [mccarthys, writing, and, portrayal, of, leste...   \n",
       "2  [do, you, giggle, uncontrollably, when, poking...   \n",
       "3  [i, was, initiated, into, the, world, of, corm...   \n",
       "4  [i, cannot, speak, to, the, literary, points, ...   \n",
       "\n",
       "                                       review_nostop  \\\n",
       "0  ['allspanish', 'handbook', 'parents', 'new', '...   \n",
       "1  ['mccarthys', 'writing', 'portrayal', 'lester'...   \n",
       "2  ['giggle', 'uncontrollably', 'poking', 'corpse...   \n",
       "3  ['initiated', 'world', 'cormac', 'mccarthy', '...   \n",
       "4  ['cannot', 'speak', 'literary', 'points', 'nov...   \n",
       "\n",
       "                                     review_stopfreq  \n",
       "0  ['allspanish', 'handbook', 'parents', 'new', '...  \n",
       "1  ['mccarthys', 'writing', 'portrayal', 'lester'...  \n",
       "2  ['giggle', 'uncontrollably', 'poking', 'corpse...  \n",
       "3  ['initiated', 'world', 'cormac', 'mccarthy', '...  \n",
       "4  ['cannot', 'speak', 'literary', 'points', 'nov...  "
      ]
     },
     "execution_count": 33,
     "metadata": {},
     "output_type": "execute_result"
    }
   ],
   "source": [
    "dff.head()"
   ]
  },
  {
   "cell_type": "markdown",
   "metadata": {},
   "source": [
    "# Rare words"
   ]
  },
  {
   "cell_type": "code",
   "execution_count": 34,
   "metadata": {},
   "outputs": [
    {
     "data": {
      "text/plain": [
       "'books',     2359\n",
       "'good',      2322\n",
       "'many',      2220\n",
       "'people',    2207\n",
       "'great',     2118\n",
       "'much',      2072\n",
       "'also',      1995\n",
       "'life',      1971\n",
       "'first',     1916\n",
       "'get',       1874\n",
       "dtype: int64"
      ]
     },
     "execution_count": 34,
     "metadata": {},
     "output_type": "execute_result"
    }
   ],
   "source": [
    "most2 = pd.Series(' '.join(dff['review_stopfreq']).split()).value_counts()[:10]\n",
    "most2"
   ]
  },
  {
   "cell_type": "code",
   "execution_count": 35,
   "metadata": {},
   "outputs": [
    {
     "data": {
      "text/plain": [
       "0       ['allspanish', 'handbook', 'parents', 'new', '...\n",
       "1       ['mccarthys', 'writing', 'portrayal', 'lester'...\n",
       "2       ['giggle', 'uncontrollably', 'poking', 'corpse...\n",
       "3       ['initiated', 'world', 'cormac', 'mccarthy', '...\n",
       "4       ['cannot', 'speak', 'literary', 'points', 'nov...\n",
       "                              ...                        \n",
       "7995    ['editor', 'received', 'deadly', 'slipperi', '...\n",
       "7996    ['book', 'disappointing', 'writing', 'terrible...\n",
       "7997    ['extremely', 'disappointed', 'bookpamphlet', ...\n",
       "7998    ['book', 'typical', 'package', 'business', 'id...\n",
       "7999    ['shouldnt', 'inhaleseveral', 'reviewers', 'ec...\n",
       "Name: review_stoprare, Length: 8000, dtype: object"
      ]
     },
     "execution_count": 35,
     "metadata": {},
     "output_type": "execute_result"
    }
   ],
   "source": [
    "def remove_freqwords(review_stopfreq):\n",
    "    return \" \".join([word for word in review_stopfreq.split() if word not in most2])\n",
    "\n",
    "dff[\"review_stoprare\"] = dff[\"review_stopfreq\"].apply(lambda review_nostop: remove_freqwords(review_nostop))\n",
    "dff[\"review_stoprare\"]"
   ]
  },
  {
   "cell_type": "markdown",
   "metadata": {},
   "source": [
    "# stemming"
   ]
  },
  {
   "cell_type": "code",
   "execution_count": 36,
   "metadata": {},
   "outputs": [
    {
     "data": {
      "text/plain": [
       "WordList([\"'mccarthys\", \"'writing\", \"'portrayal\", \"'lester\", \"'ballard\", \"'necrophiliac\", \"'well\", \"'done\", \"'townfolk\", \"'want\", \"'escape\", \"'wonderwhy\", \"'siding\", \"'necrophiliac\", \"'writing\", \"'high\", \"'standards\", \"'expected\", \"'mccarthy\", \"'usual\", \"'plumbs\", \"'darker\", \"'side\", \"'human\", \"'psyche\", \"'interesting\", \"'twist\", \"'plot\", 'ballard', \"'falsely\", \"'accused\", \"'rape\", \"'house\", \"'auctioned\", \"'hes\", \"'left\", \"'social\", \"'outcast\", \"'animal\", \"'removed\", \"'ties\", \"'humanity\", \"'becomes\", \"'animal\", \"'deal\", \"'darker\", \"'side\", \"'give\", \"'read\"])"
      ]
     },
     "execution_count": 36,
     "metadata": {},
     "output_type": "execute_result"
    }
   ],
   "source": [
    "from textblob import TextBlob\n",
    "TextBlob(dff['review_stoprare'][1]).words"
   ]
  },
  {
   "cell_type": "code",
   "execution_count": 37,
   "metadata": {},
   "outputs": [],
   "source": [
    "from nltk.stem.porter import PorterStemmer\n",
    "porter_stemmer = PorterStemmer()"
   ]
  },
  {
   "cell_type": "code",
   "execution_count": 38,
   "metadata": {},
   "outputs": [],
   "source": [
    "def stemming(review_stoprare):\n",
    "    stem_text = [porter_stemmer.stem(word) for word in str(review_stoprare).split()]\n",
    "    return stem_text\n",
    "\n",
    "#print(word, \" : \", porter_stemmer.stem(word))\n",
    "dff['review_stemmed']=dff['review_stoprare'].apply(lambda x: stemming(x))"
   ]
  },
  {
   "cell_type": "code",
   "execution_count": 39,
   "metadata": {},
   "outputs": [
    {
     "data": {
      "text/plain": [
       "0       [['allspanish',, 'handbook',, 'parents',, 'new...\n",
       "1       [['mccarthys',, 'writing',, 'portrayal',, 'les...\n",
       "2       [['giggle',, 'uncontrollably',, 'poking',, 'co...\n",
       "3       [['initiated',, 'world',, 'cormac',, 'mccarthy...\n",
       "4       [['cannot',, 'speak',, 'literary',, 'points',,...\n",
       "                              ...                        \n",
       "7995    [['editor',, 'received',, 'deadly',, 'slipperi...\n",
       "7996    [['book',, 'disappointing',, 'writing',, 'terr...\n",
       "7997    [['extremely',, 'disappointed',, 'bookpamphlet...\n",
       "7998    [['book',, 'typical',, 'package',, 'business',...\n",
       "7999    [['shouldnt',, 'inhaleseveral',, 'reviewers',,...\n",
       "Name: review_stemmed, Length: 8000, dtype: object"
      ]
     },
     "execution_count": 39,
     "metadata": {},
     "output_type": "execute_result"
    }
   ],
   "source": [
    "dff['review_stemmed']"
   ]
  },
  {
   "cell_type": "markdown",
   "metadata": {},
   "source": [
    "# lemmatization"
   ]
  },
  {
   "cell_type": "code",
   "execution_count": 40,
   "metadata": {},
   "outputs": [
    {
     "name": "stderr",
     "output_type": "stream",
     "text": [
      "[nltk_data] Downloading package wordnet to\n",
      "[nltk_data]     C:\\Users\\ABC\\AppData\\Roaming\\nltk_data...\n",
      "[nltk_data]   Package wordnet is already up-to-date!\n"
     ]
    }
   ],
   "source": [
    "import nltk\n",
    "nltk.download('wordnet')\n",
    "\n",
    "from nltk.stem import WordNetLemmatizer\n",
    "wordnet_lemmatizer = WordNetLemmatizer()"
   ]
  },
  {
   "cell_type": "code",
   "execution_count": 41,
   "metadata": {},
   "outputs": [
    {
     "name": "stderr",
     "output_type": "stream",
     "text": [
      "[nltk_data] Downloading package averaged_perceptron_tagger to\n",
      "[nltk_data]     C:\\Users\\ABC\\AppData\\Roaming\\nltk_data...\n",
      "[nltk_data]   Package averaged_perceptron_tagger is already up-to-\n",
      "[nltk_data]       date!\n"
     ]
    }
   ],
   "source": [
    "import nltk\n",
    "nltk.download('averaged_perceptron_tagger')\n",
    "from nltk.corpus import wordnet\n",
    "from nltk.stem import WordNetLemmatizer\n",
    "\n",
    "lemmatizer = WordNetLemmatizer()\n",
    "wordnet_map = {\"N\":wordnet.NOUN, \"V\":wordnet.VERB, \"J\":wordnet.ADJ, \"R\":wordnet.ADV}\n",
    "def lemmatize_words(review_stemmed):\n",
    "    pos_tagged_text = nltk.pos_tag(review_stemmed)\n",
    "    return \" \".join([lemmatizer.lemmatize(word, wordnet_map.get(pos[0], wordnet.NOUN)) for word, pos in pos_tagged_text])\n",
    "\n",
    "#print(wordnet_lemmatizer.lemmatize(word))\n",
    "dff[\"review_lemmatized\"] = dff[\"review_stemmed\"].apply(lambda x: lemmatize_words(x))"
   ]
  },
  {
   "cell_type": "code",
   "execution_count": 42,
   "metadata": {},
   "outputs": [
    {
     "data": {
      "text/plain": [
       "0       ['allspanish', 'handbook', 'parents', 'new', '...\n",
       "1       ['mccarthys', 'writing', 'portrayal', 'lester'...\n",
       "2       ['giggle', 'uncontrollably', 'poking', 'corpse...\n",
       "3       ['initiated', 'world', 'cormac', 'mccarthy', '...\n",
       "4       ['cannot', 'speak', 'literary', 'points', 'nov...\n",
       "                              ...                        \n",
       "7995    ['editor', 'received', 'deadly', 'slipperi', '...\n",
       "7996    ['book', 'disappointing', 'writing', 'terrible...\n",
       "7997    ['extremely', 'disappointed', 'bookpamphlet', ...\n",
       "7998    ['book', 'typical', 'package', 'business', 'id...\n",
       "7999    ['shouldnt', 'inhaleseveral', 'reviewers', 'ec...\n",
       "Name: review_lemmatized, Length: 8000, dtype: object"
      ]
     },
     "execution_count": 42,
     "metadata": {},
     "output_type": "execute_result"
    }
   ],
   "source": [
    "dff[\"review_lemmatized\"]"
   ]
  },
  {
   "cell_type": "markdown",
   "metadata": {},
   "source": [
    "# spelling check"
   ]
  },
  {
   "cell_type": "code",
   "execution_count": 43,
   "metadata": {},
   "outputs": [],
   "source": [
    "from spellchecker import SpellChecker\n",
    "\n",
    "spell = SpellChecker()\n",
    "def correct_spellings(review_lemmatized):\n",
    "    corrected_text = []\n",
    "    misspelled_words = spell.unknown(review_lemmatized)\n",
    "    for word in str(review_lemmatized).split():\n",
    "        if word in misspelled_words:\n",
    "            corrected_text.append(spell.correction(word))\n",
    "        else:\n",
    "            corrected_text.append(word)\n",
    "    return \" \".join(corrected_text)\n",
    "\n",
    "dff[\"Final_text\"] = dff[\"review_lemmatized\"].apply(lambda x: correct_spellings(x))"
   ]
  },
  {
   "cell_type": "code",
   "execution_count": 44,
   "metadata": {},
   "outputs": [
    {
     "data": {
      "text/html": [
       "<div>\n",
       "<style scoped>\n",
       "    .dataframe tbody tr th:only-of-type {\n",
       "        vertical-align: middle;\n",
       "    }\n",
       "\n",
       "    .dataframe tbody tr th {\n",
       "        vertical-align: top;\n",
       "    }\n",
       "\n",
       "    .dataframe thead th {\n",
       "        text-align: right;\n",
       "    }\n",
       "</style>\n",
       "<table border=\"1\" class=\"dataframe\">\n",
       "  <thead>\n",
       "    <tr style=\"text-align: right;\">\n",
       "      <th></th>\n",
       "      <th>review</th>\n",
       "      <th>clean_review</th>\n",
       "      <th>review_tokenied</th>\n",
       "      <th>review_nostop</th>\n",
       "      <th>review_stopfreq</th>\n",
       "      <th>review_stoprare</th>\n",
       "      <th>review_stemmed</th>\n",
       "      <th>review_lemmatized</th>\n",
       "      <th>Final_text</th>\n",
       "    </tr>\n",
       "  </thead>\n",
       "  <tbody>\n",
       "    <tr>\n",
       "      <th>0</th>\n",
       "      <td>this all-spanish handbook for parents with new...</td>\n",
       "      <td>this allspanish handbook for parents with new ...</td>\n",
       "      <td>[this, allspanish, handbook, for, parents, wit...</td>\n",
       "      <td>['allspanish', 'handbook', 'parents', 'new', '...</td>\n",
       "      <td>['allspanish', 'handbook', 'parents', 'new', '...</td>\n",
       "      <td>['allspanish', 'handbook', 'parents', 'new', '...</td>\n",
       "      <td>[['allspanish',, 'handbook',, 'parents',, 'new...</td>\n",
       "      <td>['allspanish', 'handbook', 'parents', 'new', '...</td>\n",
       "      <td>['allspanish', 'handbook', 'parents', 'new', '...</td>\n",
       "    </tr>\n",
       "    <tr>\n",
       "      <th>1</th>\n",
       "      <td>mccarthy's writing and portrayal of lester bal...</td>\n",
       "      <td>mccarthys writing and portrayal of lester ball...</td>\n",
       "      <td>[mccarthys, writing, and, portrayal, of, leste...</td>\n",
       "      <td>['mccarthys', 'writing', 'portrayal', 'lester'...</td>\n",
       "      <td>['mccarthys', 'writing', 'portrayal', 'lester'...</td>\n",
       "      <td>['mccarthys', 'writing', 'portrayal', 'lester'...</td>\n",
       "      <td>[['mccarthys',, 'writing',, 'portrayal',, 'les...</td>\n",
       "      <td>['mccarthys', 'writing', 'portrayal', 'lester'...</td>\n",
       "      <td>['mccarthys', 'writing', 'portrayal', 'lester'...</td>\n",
       "    </tr>\n",
       "    <tr>\n",
       "      <th>2</th>\n",
       "      <td>do you giggle uncontrollably when poking corps...</td>\n",
       "      <td>do you giggle uncontrollably when poking corps...</td>\n",
       "      <td>[do, you, giggle, uncontrollably, when, poking...</td>\n",
       "      <td>['giggle', 'uncontrollably', 'poking', 'corpse...</td>\n",
       "      <td>['giggle', 'uncontrollably', 'poking', 'corpse...</td>\n",
       "      <td>['giggle', 'uncontrollably', 'poking', 'corpse...</td>\n",
       "      <td>[['giggle',, 'uncontrollably',, 'poking',, 'co...</td>\n",
       "      <td>['giggle', 'uncontrollably', 'poking', 'corpse...</td>\n",
       "      <td>['giggle', 'uncontrollably', 'poking', 'corpse...</td>\n",
       "    </tr>\n",
       "    <tr>\n",
       "      <th>3</th>\n",
       "      <td>i was initiated into the world of cormac mccar...</td>\n",
       "      <td>i was initiated into the world of cormac mccar...</td>\n",
       "      <td>[i, was, initiated, into, the, world, of, corm...</td>\n",
       "      <td>['initiated', 'world', 'cormac', 'mccarthy', '...</td>\n",
       "      <td>['initiated', 'world', 'cormac', 'mccarthy', '...</td>\n",
       "      <td>['initiated', 'world', 'cormac', 'mccarthy', '...</td>\n",
       "      <td>[['initiated',, 'world',, 'cormac',, 'mccarthy...</td>\n",
       "      <td>['initiated', 'world', 'cormac', 'mccarthy', '...</td>\n",
       "      <td>['initiated', 'world', 'cormac', 'mccarthy', '...</td>\n",
       "    </tr>\n",
       "    <tr>\n",
       "      <th>4</th>\n",
       "      <td>i cannot speak to the literary points in the n...</td>\n",
       "      <td>i cannot speak to the literary points in the n...</td>\n",
       "      <td>[i, cannot, speak, to, the, literary, points, ...</td>\n",
       "      <td>['cannot', 'speak', 'literary', 'points', 'nov...</td>\n",
       "      <td>['cannot', 'speak', 'literary', 'points', 'nov...</td>\n",
       "      <td>['cannot', 'speak', 'literary', 'points', 'nov...</td>\n",
       "      <td>[['cannot',, 'speak',, 'literary',, 'points',,...</td>\n",
       "      <td>['cannot', 'speak', 'literary', 'points', 'nov...</td>\n",
       "      <td>['cannot', 'speak', 'literary', 'points', 'nov...</td>\n",
       "    </tr>\n",
       "  </tbody>\n",
       "</table>\n",
       "</div>"
      ],
      "text/plain": [
       "                                              review  \\\n",
       "0  this all-spanish handbook for parents with new...   \n",
       "1  mccarthy's writing and portrayal of lester bal...   \n",
       "2  do you giggle uncontrollably when poking corps...   \n",
       "3  i was initiated into the world of cormac mccar...   \n",
       "4  i cannot speak to the literary points in the n...   \n",
       "\n",
       "                                        clean_review  \\\n",
       "0  this allspanish handbook for parents with new ...   \n",
       "1  mccarthys writing and portrayal of lester ball...   \n",
       "2  do you giggle uncontrollably when poking corps...   \n",
       "3  i was initiated into the world of cormac mccar...   \n",
       "4  i cannot speak to the literary points in the n...   \n",
       "\n",
       "                                     review_tokenied  \\\n",
       "0  [this, allspanish, handbook, for, parents, wit...   \n",
       "1  [mccarthys, writing, and, portrayal, of, leste...   \n",
       "2  [do, you, giggle, uncontrollably, when, poking...   \n",
       "3  [i, was, initiated, into, the, world, of, corm...   \n",
       "4  [i, cannot, speak, to, the, literary, points, ...   \n",
       "\n",
       "                                       review_nostop  \\\n",
       "0  ['allspanish', 'handbook', 'parents', 'new', '...   \n",
       "1  ['mccarthys', 'writing', 'portrayal', 'lester'...   \n",
       "2  ['giggle', 'uncontrollably', 'poking', 'corpse...   \n",
       "3  ['initiated', 'world', 'cormac', 'mccarthy', '...   \n",
       "4  ['cannot', 'speak', 'literary', 'points', 'nov...   \n",
       "\n",
       "                                     review_stopfreq  \\\n",
       "0  ['allspanish', 'handbook', 'parents', 'new', '...   \n",
       "1  ['mccarthys', 'writing', 'portrayal', 'lester'...   \n",
       "2  ['giggle', 'uncontrollably', 'poking', 'corpse...   \n",
       "3  ['initiated', 'world', 'cormac', 'mccarthy', '...   \n",
       "4  ['cannot', 'speak', 'literary', 'points', 'nov...   \n",
       "\n",
       "                                     review_stoprare  \\\n",
       "0  ['allspanish', 'handbook', 'parents', 'new', '...   \n",
       "1  ['mccarthys', 'writing', 'portrayal', 'lester'...   \n",
       "2  ['giggle', 'uncontrollably', 'poking', 'corpse...   \n",
       "3  ['initiated', 'world', 'cormac', 'mccarthy', '...   \n",
       "4  ['cannot', 'speak', 'literary', 'points', 'nov...   \n",
       "\n",
       "                                      review_stemmed  \\\n",
       "0  [['allspanish',, 'handbook',, 'parents',, 'new...   \n",
       "1  [['mccarthys',, 'writing',, 'portrayal',, 'les...   \n",
       "2  [['giggle',, 'uncontrollably',, 'poking',, 'co...   \n",
       "3  [['initiated',, 'world',, 'cormac',, 'mccarthy...   \n",
       "4  [['cannot',, 'speak',, 'literary',, 'points',,...   \n",
       "\n",
       "                                   review_lemmatized  \\\n",
       "0  ['allspanish', 'handbook', 'parents', 'new', '...   \n",
       "1  ['mccarthys', 'writing', 'portrayal', 'lester'...   \n",
       "2  ['giggle', 'uncontrollably', 'poking', 'corpse...   \n",
       "3  ['initiated', 'world', 'cormac', 'mccarthy', '...   \n",
       "4  ['cannot', 'speak', 'literary', 'points', 'nov...   \n",
       "\n",
       "                                          Final_text  \n",
       "0  ['allspanish', 'handbook', 'parents', 'new', '...  \n",
       "1  ['mccarthys', 'writing', 'portrayal', 'lester'...  \n",
       "2  ['giggle', 'uncontrollably', 'poking', 'corpse...  \n",
       "3  ['initiated', 'world', 'cormac', 'mccarthy', '...  \n",
       "4  ['cannot', 'speak', 'literary', 'points', 'nov...  "
      ]
     },
     "execution_count": 44,
     "metadata": {},
     "output_type": "execute_result"
    }
   ],
   "source": [
    "dff.head()"
   ]
  },
  {
   "cell_type": "markdown",
   "metadata": {},
   "source": [
    "# Displaying only necessary columns"
   ]
  },
  {
   "cell_type": "code",
   "execution_count": 45,
   "metadata": {},
   "outputs": [
    {
     "data": {
      "text/html": [
       "<div>\n",
       "<style scoped>\n",
       "    .dataframe tbody tr th:only-of-type {\n",
       "        vertical-align: middle;\n",
       "    }\n",
       "\n",
       "    .dataframe tbody tr th {\n",
       "        vertical-align: top;\n",
       "    }\n",
       "\n",
       "    .dataframe thead th {\n",
       "        text-align: right;\n",
       "    }\n",
       "</style>\n",
       "<table border=\"1\" class=\"dataframe\">\n",
       "  <thead>\n",
       "    <tr style=\"text-align: right;\">\n",
       "      <th></th>\n",
       "      <th>Final_text</th>\n",
       "    </tr>\n",
       "  </thead>\n",
       "  <tbody>\n",
       "    <tr>\n",
       "      <th>0</th>\n",
       "      <td>['allspanish', 'handbook', 'parents', 'new', '...</td>\n",
       "    </tr>\n",
       "    <tr>\n",
       "      <th>1</th>\n",
       "      <td>['mccarthys', 'writing', 'portrayal', 'lester'...</td>\n",
       "    </tr>\n",
       "    <tr>\n",
       "      <th>2</th>\n",
       "      <td>['giggle', 'uncontrollably', 'poking', 'corpse...</td>\n",
       "    </tr>\n",
       "    <tr>\n",
       "      <th>3</th>\n",
       "      <td>['initiated', 'world', 'cormac', 'mccarthy', '...</td>\n",
       "    </tr>\n",
       "    <tr>\n",
       "      <th>4</th>\n",
       "      <td>['cannot', 'speak', 'literary', 'points', 'nov...</td>\n",
       "    </tr>\n",
       "    <tr>\n",
       "      <th>...</th>\n",
       "      <td>...</td>\n",
       "    </tr>\n",
       "    <tr>\n",
       "      <th>7995</th>\n",
       "      <td>['editor', 'received', 'deadly', 'slipperi', '...</td>\n",
       "    </tr>\n",
       "    <tr>\n",
       "      <th>7996</th>\n",
       "      <td>['book', 'disappointing', 'writing', 'terrible...</td>\n",
       "    </tr>\n",
       "    <tr>\n",
       "      <th>7997</th>\n",
       "      <td>['extremely', 'disappointed', 'bookpamphlet', ...</td>\n",
       "    </tr>\n",
       "    <tr>\n",
       "      <th>7998</th>\n",
       "      <td>['book', 'typical', 'package', 'business', 'id...</td>\n",
       "    </tr>\n",
       "    <tr>\n",
       "      <th>7999</th>\n",
       "      <td>['shouldnt', 'inhaleseveral', 'reviewers', 'ec...</td>\n",
       "    </tr>\n",
       "  </tbody>\n",
       "</table>\n",
       "<p>8000 rows × 1 columns</p>\n",
       "</div>"
      ],
      "text/plain": [
       "                                             Final_text\n",
       "0     ['allspanish', 'handbook', 'parents', 'new', '...\n",
       "1     ['mccarthys', 'writing', 'portrayal', 'lester'...\n",
       "2     ['giggle', 'uncontrollably', 'poking', 'corpse...\n",
       "3     ['initiated', 'world', 'cormac', 'mccarthy', '...\n",
       "4     ['cannot', 'speak', 'literary', 'points', 'nov...\n",
       "...                                                 ...\n",
       "7995  ['editor', 'received', 'deadly', 'slipperi', '...\n",
       "7996  ['book', 'disappointing', 'writing', 'terrible...\n",
       "7997  ['extremely', 'disappointed', 'bookpamphlet', ...\n",
       "7998  ['book', 'typical', 'package', 'business', 'id...\n",
       "7999  ['shouldnt', 'inhaleseveral', 'reviewers', 'ec...\n",
       "\n",
       "[8000 rows x 1 columns]"
      ]
     },
     "execution_count": 45,
     "metadata": {},
     "output_type": "execute_result"
    }
   ],
   "source": [
    "dff.drop(['review','clean_review','review_tokenied','review_nostop','review_stopfreq','review_stoprare','review_stemmed','review_lemmatized'],axis=1)"
   ]
  },
  {
   "cell_type": "code",
   "execution_count": 52,
   "metadata": {},
   "outputs": [],
   "source": [
    "def getSubjectivity(Final_text):\n",
    "    return TextBlob(Final_text).sentiment.subjectivity\n",
    "    \n",
    "def getPolarity(Final_text):\n",
    "    return TextBlob(Final_text).sentiment.polarity\n",
    "\n",
    "dff ['polarity'] = dff['Final_text'].apply(getPolarity)\n",
    "dff['subjectivity'] = dff['Final_text'].apply(getSubjectivity)\n",
    "\n",
    "def getAnalysis(score):\n",
    "    if score < 0:\n",
    "        return 'Negative'\n",
    "    elif score == 0:\n",
    "        return 'Neutral'\n",
    "    else:\n",
    "        return 'Positive'\n",
    "    \n",
    "dff['Analysis_labels'] = dff['polarity'].apply(lambda x: getAnalysis(x))"
   ]
  },
  {
   "cell_type": "code",
   "execution_count": 53,
   "metadata": {},
   "outputs": [
    {
     "data": {
      "text/plain": [
       "Index(['review', 'clean_review', 'review_tokenied', 'review_nostop',\n",
       "       'review_stopfreq', 'review_stoprare', 'review_stemmed',\n",
       "       'review_lemmatized', 'Final_text', 'polarity', 'subjectivity',\n",
       "       'Analysis_labels'],\n",
       "      dtype='object')"
      ]
     },
     "execution_count": 53,
     "metadata": {},
     "output_type": "execute_result"
    }
   ],
   "source": [
    "dff.columns"
   ]
  },
  {
   "cell_type": "code",
   "execution_count": 56,
   "metadata": {},
   "outputs": [],
   "source": [
    "clean_amazon_data=dff[['Final_text', 'polarity','Analysis_labels']]"
   ]
  },
  {
   "cell_type": "code",
   "execution_count": 57,
   "metadata": {},
   "outputs": [
    {
     "name": "stderr",
     "output_type": "stream",
     "text": [
      "<ipython-input-57-45b765fade73>:1: FutureWarning: Passing a negative integer is deprecated in version 1.0 and will not be supported in future version. Instead, use None to not limit the column width.\n",
      "  pd.set_option('max_colwidth', -1)\n"
     ]
    },
    {
     "data": {
      "text/html": [
       "<div>\n",
       "<style scoped>\n",
       "    .dataframe tbody tr th:only-of-type {\n",
       "        vertical-align: middle;\n",
       "    }\n",
       "\n",
       "    .dataframe tbody tr th {\n",
       "        vertical-align: top;\n",
       "    }\n",
       "\n",
       "    .dataframe thead th {\n",
       "        text-align: right;\n",
       "    }\n",
       "</style>\n",
       "<table border=\"1\" class=\"dataframe\">\n",
       "  <thead>\n",
       "    <tr style=\"text-align: right;\">\n",
       "      <th></th>\n",
       "      <th>Final_text</th>\n",
       "      <th>polarity</th>\n",
       "      <th>Analysis_labels</th>\n",
       "    </tr>\n",
       "  </thead>\n",
       "  <tbody>\n",
       "    <tr>\n",
       "      <th>0</th>\n",
       "      <td>['allspanish', 'handbook', 'parents', 'new', 'babies', 'prove', 'essential', 'concerned', 'childs', 'health', 'manual', 'pediatrico', 'appeared', 'english', 'spanish', 'edition', 'provides', 'essential', 'health', 'information', 'glance', 'parents', 'unversed', 'medical', 'care', 'mainstay', any', 'spanishspeaking', 'home', 'children']</td>\n",
       "      <td>0.022727</td>\n",
       "      <td>Positive</td>\n",
       "    </tr>\n",
       "    <tr>\n",
       "      <th>1</th>\n",
       "      <td>['mccarthys', 'writing', 'portrayal', 'lester', 'ballard', 'necrophiliac', 'well', 'done', 'townfolk', 'want', 'escape', 'wonderwhy', 'siding', 'necrophiliac', 'writing', 'high', 'standards', 'expected', 'mccarthy', 'usual', 'plumbs', 'darker', 'side', 'human', 'psyche', 'interesting', 'twist', 'plot', ballard', 'falsely', 'accused', 'rape', 'house', 'auctioned', 'hes', 'left', 'social', 'outcast', 'animal', 'removed', 'ties', 'humanity', 'becomes', 'animal', 'deal', 'darker', 'side', 'give', 'read']</td>\n",
       "      <td>-0.007083</td>\n",
       "      <td>Negative</td>\n",
       "    </tr>\n",
       "    <tr>\n",
       "      <th>2</th>\n",
       "      <td>['giggle', 'uncontrollably', 'poking', 'corpses', 'stick', 'look', 'youi', 'understand', 'appeal', 'certain', 'demographic', 'guess', 'shouldnt', 'expected', 'certainly', 'didnt', 'expect', 'literary', 'masterpeice', 'awhile', 'felt', 'giving', 'didnt', 'since', 'short', 'may', 'well', 'grotesque', 'disturbing', 'seen', 'described', 'elsewhere', 'author', 'either', 'left', 'incapable', 'proper', 'narrative', 'make', 'potentially', 'disturbing', 'scenes', 'vivid', 'unfortunately', 'applies', 'aspects', 'bookthe', 'entire', 'rural', 'vernacular', 'including', 'ignoring', 'proper', 'punctuation', 'end', 'result', 'nothing', 'described', 'detail', 'reading', 'poorly', 'worded', 'list', 'stuff', 'happened', 'almost', 'wasnt', 'really', 'trying', 'hard', 'really', 'told', 'simpleminded', 'country', 'person', an', 'omniscient', 'peoples', 'minds', 'suppose', 'idea', 'could', 'worked', 'doesnt', 'terrible', 'annoying', 'vague', 'waste', 'time']</td>\n",
       "      <td>-0.186439</td>\n",
       "      <td>Negative</td>\n",
       "    </tr>\n",
       "    <tr>\n",
       "      <th>3</th>\n",
       "      <td>['initiated', 'world', 'cormac', 'mccarthy', 'novel', 'southern', 'lit', 'class', my', 'professor', 'vice', 'president', 'cormac', 'mccarthy', 'appreciation', 'society', 'considers', 'mccarthy', 'talented', 'novelists', 'twentieth', 'century', this', 'work', 'product', 'evolved', 'understanding', 'faulkner', it', 'incorporates', 'typical', 'faulknarian', 'literary', 'elements', 'subject', 'matter', 'stretches', 'evolves', 'unusually', 'intense', 'point', there', 'message', 'decay', 'especially', 'south', 'diction', 'especially', 'flood', 'degeneration', 'lester', 'ballard', 'concerned', there', 'old', 'south', 'v', 'new', 'south', 'post', 'reconstuction', 'circumstances', 'south', 'disposession', 'ballard', there', 'lust', 'something', 'faulkner', 'tackeled', 'subtle', 'manner', 'mccarthy', 'sound', 'fury', 'lay', 'dying', however', 'mccarthys', 'lust', 'intense', 'grotesque', 'described', 'without', 'sentiment', 'amazing', 'display', 'gift', 'total', 'candor', mccarthy', 'nothing', 'short', 'stoic', 'descriptions', 'must', 'posess', 'amazing', 'constitution', 'ability', 'write', 'make', 'us', 'vomit', 'thinking', 'ability', 'reduce', 'human', 'character', 'lowest', 'common', 'denomimnator', 'performing', 'unspeakable', 'acts', 'depravity', 'remaining', 'valid', 'character', 'whose', 'presence', 'still', 'carries', 'literary', 'message', 'human', 'well', 'unique', 'gifts', this', 'novel', 'may', 'hard', 'take', 'faint', 'heart', 'well', 'worth', it', 'haunting', 'reader', 'perverse', 'subject', 'matter', 'understated', 'messages', 'masterfully', 'placed', 'character', 'lester', 'ballard', 'disposessed', 'depraved', 'madman', 'holding', 'dark', 'secrets', 'humanity', 'driven']</td>\n",
       "      <td>0.075392</td>\n",
       "      <td>Positive</td>\n",
       "    </tr>\n",
       "    <tr>\n",
       "      <th>4</th>\n",
       "      <td>['cannot', 'speak', 'literary', 'points', 'novel', 'though', 'say', 'enjoyed', 'fact', 'couldnt', 'put', 'finished', 'however', 'think', 'interesting', 'setting', 'considering', 'set', 'hometown', 'sevierville', 'tennessee', 'strangely', 'author', 'refers', 'accurately', 'several', 'persons', 'events', 'ive', 'known', 'forever', 'mr', 'wades', 'children', 'still', 'live', 'sevierville', 'whaley', 'ogle', 'families', '1964', 'flood', 'parking', 'meters', 'white', 'caps', 'stopped', 'real', 'clint', 'eastwood', 'sevier', 'county', 'sheriff', 'opening', 'scene', 'auctioner', 'based', 'cb', 'mccarter', 'whose', 'trademark', 'saying', 'sell', 'earth', 'cb', 'grandfather', 'never', 'told', 'runins', 'lester', 'ballard', 'novels', 'main', 'character', 'thank', 'goodness', 'turns', 'ballard', 'murdering', 'necrophiliac', 'mccarthy', 'takes', 'writes', 'instead', 'mirroring', 'persons', 'actual', 'community']</td>\n",
       "      <td>0.155303</td>\n",
       "      <td>Positive</td>\n",
       "    </tr>\n",
       "  </tbody>\n",
       "</table>\n",
       "</div>"
      ],
      "text/plain": [
       "                                                                                                                                                                                                                                                                                                                                                                                                                                                                                                                                                                                                                                                                                                                                                                                                                                                                                                                                                                                                                                                                                                                                                                                                                                                                                                                                                                                                                                                                                                                                                                                                                                                                                                                                                                 Final_text  \\\n",
       "0  ['allspanish', 'handbook', 'parents', 'new', 'babies', 'prove', 'essential', 'concerned', 'childs', 'health', 'manual', 'pediatrico', 'appeared', 'english', 'spanish', 'edition', 'provides', 'essential', 'health', 'information', 'glance', 'parents', 'unversed', 'medical', 'care', 'mainstay', any', 'spanishspeaking', 'home', 'children']                                                                                                                                                                                                                                                                                                                                                                                                                                                                                                                                                                                                                                                                                                                                                                                                                                                                                                                                                                                                                                                                                                                                                                                                                                                                                                                                                                                                                          \n",
       "1  ['mccarthys', 'writing', 'portrayal', 'lester', 'ballard', 'necrophiliac', 'well', 'done', 'townfolk', 'want', 'escape', 'wonderwhy', 'siding', 'necrophiliac', 'writing', 'high', 'standards', 'expected', 'mccarthy', 'usual', 'plumbs', 'darker', 'side', 'human', 'psyche', 'interesting', 'twist', 'plot', ballard', 'falsely', 'accused', 'rape', 'house', 'auctioned', 'hes', 'left', 'social', 'outcast', 'animal', 'removed', 'ties', 'humanity', 'becomes', 'animal', 'deal', 'darker', 'side', 'give', 'read']                                                                                                                                                                                                                                                                                                                                                                                                                                                                                                                                                                                                                                                                                                                                                                                                                                                                                                                                                                                                                                                                                                                                                                                                                                                  \n",
       "2  ['giggle', 'uncontrollably', 'poking', 'corpses', 'stick', 'look', 'youi', 'understand', 'appeal', 'certain', 'demographic', 'guess', 'shouldnt', 'expected', 'certainly', 'didnt', 'expect', 'literary', 'masterpeice', 'awhile', 'felt', 'giving', 'didnt', 'since', 'short', 'may', 'well', 'grotesque', 'disturbing', 'seen', 'described', 'elsewhere', 'author', 'either', 'left', 'incapable', 'proper', 'narrative', 'make', 'potentially', 'disturbing', 'scenes', 'vivid', 'unfortunately', 'applies', 'aspects', 'bookthe', 'entire', 'rural', 'vernacular', 'including', 'ignoring', 'proper', 'punctuation', 'end', 'result', 'nothing', 'described', 'detail', 'reading', 'poorly', 'worded', 'list', 'stuff', 'happened', 'almost', 'wasnt', 'really', 'trying', 'hard', 'really', 'told', 'simpleminded', 'country', 'person', an', 'omniscient', 'peoples', 'minds', 'suppose', 'idea', 'could', 'worked', 'doesnt', 'terrible', 'annoying', 'vague', 'waste', 'time']                                                                                                                                                                                                                                                                                                                                                                                                                                                                                                                                                                                                                                                                                                                                                                                     \n",
       "3  ['initiated', 'world', 'cormac', 'mccarthy', 'novel', 'southern', 'lit', 'class', my', 'professor', 'vice', 'president', 'cormac', 'mccarthy', 'appreciation', 'society', 'considers', 'mccarthy', 'talented', 'novelists', 'twentieth', 'century', this', 'work', 'product', 'evolved', 'understanding', 'faulkner', it', 'incorporates', 'typical', 'faulknarian', 'literary', 'elements', 'subject', 'matter', 'stretches', 'evolves', 'unusually', 'intense', 'point', there', 'message', 'decay', 'especially', 'south', 'diction', 'especially', 'flood', 'degeneration', 'lester', 'ballard', 'concerned', there', 'old', 'south', 'v', 'new', 'south', 'post', 'reconstuction', 'circumstances', 'south', 'disposession', 'ballard', there', 'lust', 'something', 'faulkner', 'tackeled', 'subtle', 'manner', 'mccarthy', 'sound', 'fury', 'lay', 'dying', however', 'mccarthys', 'lust', 'intense', 'grotesque', 'described', 'without', 'sentiment', 'amazing', 'display', 'gift', 'total', 'candor', mccarthy', 'nothing', 'short', 'stoic', 'descriptions', 'must', 'posess', 'amazing', 'constitution', 'ability', 'write', 'make', 'us', 'vomit', 'thinking', 'ability', 'reduce', 'human', 'character', 'lowest', 'common', 'denomimnator', 'performing', 'unspeakable', 'acts', 'depravity', 'remaining', 'valid', 'character', 'whose', 'presence', 'still', 'carries', 'literary', 'message', 'human', 'well', 'unique', 'gifts', this', 'novel', 'may', 'hard', 'take', 'faint', 'heart', 'well', 'worth', it', 'haunting', 'reader', 'perverse', 'subject', 'matter', 'understated', 'messages', 'masterfully', 'placed', 'character', 'lester', 'ballard', 'disposessed', 'depraved', 'madman', 'holding', 'dark', 'secrets', 'humanity', 'driven']   \n",
       "4  ['cannot', 'speak', 'literary', 'points', 'novel', 'though', 'say', 'enjoyed', 'fact', 'couldnt', 'put', 'finished', 'however', 'think', 'interesting', 'setting', 'considering', 'set', 'hometown', 'sevierville', 'tennessee', 'strangely', 'author', 'refers', 'accurately', 'several', 'persons', 'events', 'ive', 'known', 'forever', 'mr', 'wades', 'children', 'still', 'live', 'sevierville', 'whaley', 'ogle', 'families', '1964', 'flood', 'parking', 'meters', 'white', 'caps', 'stopped', 'real', 'clint', 'eastwood', 'sevier', 'county', 'sheriff', 'opening', 'scene', 'auctioner', 'based', 'cb', 'mccarter', 'whose', 'trademark', 'saying', 'sell', 'earth', 'cb', 'grandfather', 'never', 'told', 'runins', 'lester', 'ballard', 'novels', 'main', 'character', 'thank', 'goodness', 'turns', 'ballard', 'murdering', 'necrophiliac', 'mccarthy', 'takes', 'writes', 'instead', 'mirroring', 'persons', 'actual', 'community']                                                                                                                                                                                                                                                                                                                                                                                                                                                                                                                                                                                                                                                                                                                                                                                                                          \n",
       "\n",
       "   polarity Analysis_labels  \n",
       "0  0.022727  Positive        \n",
       "1 -0.007083  Negative        \n",
       "2 -0.186439  Negative        \n",
       "3  0.075392  Positive        \n",
       "4  0.155303  Positive        "
      ]
     },
     "execution_count": 57,
     "metadata": {},
     "output_type": "execute_result"
    }
   ],
   "source": [
    "pd.set_option('max_colwidth', -1)\n",
    "clean_amazon_data.head()"
   ]
  },
  {
   "cell_type": "code",
   "execution_count": 58,
   "metadata": {},
   "outputs": [
    {
     "data": {
      "text/plain": [
       "(8000, 3)"
      ]
     },
     "execution_count": 58,
     "metadata": {},
     "output_type": "execute_result"
    }
   ],
   "source": [
    "clean_amazon_data.shape"
   ]
  },
  {
   "cell_type": "code",
   "execution_count": 60,
   "metadata": {},
   "outputs": [
    {
     "data": {
      "text/plain": [
       "array(['Positive', 'Negative', 'Neutral'], dtype=object)"
      ]
     },
     "execution_count": 60,
     "metadata": {},
     "output_type": "execute_result"
    }
   ],
   "source": [
    "clean_amazon_data.Analysis_labels.unique()"
   ]
  },
  {
   "cell_type": "code",
   "execution_count": 61,
   "metadata": {},
   "outputs": [],
   "source": [
    "from sklearn.feature_extraction.text import TfidfVectorizer\n",
    "import time\n",
    "from sklearn import svm\n",
    "from sklearn.metrics import classification_report\n",
    "vectorizer = TfidfVectorizer(min_df = 5,\n",
    "                             max_df = 0.8,\n",
    "                             sublinear_tf = True,\n",
    "                             use_idf = True)"
   ]
  },
  {
   "cell_type": "code",
   "execution_count": 67,
   "metadata": {},
   "outputs": [],
   "source": [
    "from sklearn.model_selection import train_test_split\n",
    "x = vectorizer.fit_transform(clean_amazon_data['Final_text'])\n",
    "y = vectorizer.transform(clean_amazon_data['Analysis_labels'])"
   ]
  },
  {
   "cell_type": "code",
   "execution_count": 69,
   "metadata": {},
   "outputs": [],
   "source": [
    "y=clean_amazon_data['Analysis_labels']"
   ]
  },
  {
   "cell_type": "code",
   "execution_count": 70,
   "metadata": {},
   "outputs": [],
   "source": [
    "x_train, x_test, y_train, y_test = train_test_split(x, y, test_size = 0.2,random_state=10)"
   ]
  },
  {
   "cell_type": "code",
   "execution_count": 71,
   "metadata": {},
   "outputs": [
    {
     "data": {
      "text/plain": [
       "(6400, 12280)"
      ]
     },
     "execution_count": 71,
     "metadata": {},
     "output_type": "execute_result"
    }
   ],
   "source": [
    "x_train.shape"
   ]
  },
  {
   "cell_type": "code",
   "execution_count": 72,
   "metadata": {},
   "outputs": [
    {
     "data": {
      "text/plain": [
       "SVC(C=50, kernel='linear')"
      ]
     },
     "execution_count": 72,
     "metadata": {},
     "output_type": "execute_result"
    }
   ],
   "source": [
    "from sklearn import svm\n",
    "from sklearn.svm import SVC\n",
    "model = SVC(C=50,kernel='linear')\n",
    "model.fit(x_train, y_train)"
   ]
  },
  {
   "cell_type": "code",
   "execution_count": 73,
   "metadata": {},
   "outputs": [
    {
     "data": {
      "text/plain": [
       "0.880625"
      ]
     },
     "execution_count": 73,
     "metadata": {},
     "output_type": "execute_result"
    }
   ],
   "source": [
    "model.score(x_test, y_test)"
   ]
  },
  {
   "cell_type": "code",
   "execution_count": null,
   "metadata": {},
   "outputs": [],
   "source": []
  }
 ],
 "metadata": {
  "kernelspec": {
   "display_name": "Python 3",
   "language": "python",
   "name": "python3"
  },
  "language_info": {
   "codemirror_mode": {
    "name": "ipython",
    "version": 3
   },
   "file_extension": ".py",
   "mimetype": "text/x-python",
   "name": "python",
   "nbconvert_exporter": "python",
   "pygments_lexer": "ipython3",
   "version": "3.8.1"
  }
 },
 "nbformat": 4,
 "nbformat_minor": 4
}
